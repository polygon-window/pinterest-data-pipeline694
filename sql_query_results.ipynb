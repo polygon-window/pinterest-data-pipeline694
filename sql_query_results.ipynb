{
 "cells": [
  {
   "cell_type": "code",
   "execution_count": 0,
   "metadata": {
    "application/vnd.databricks.v1+cell": {
     "cellMetadata": {
      "byteLimit": 2048000,
      "implicitDf": true,
      "rowLimit": 10000
     },
     "inputWidgets": {},
     "nuid": "0c52694e-3fc6-499a-8089-ead907d47aa0",
     "showTitle": false,
     "tableResultSettingsMap": {},
     "title": ""
    }
   },
   "outputs": [
    {
     "data": {
      "text/html": [
       "<style scoped>\n",
       "  .table-result-container {\n",
       "    max-height: 300px;\n",
       "    overflow: auto;\n",
       "  }\n",
       "  table, th, td {\n",
       "    border: 1px solid black;\n",
       "    border-collapse: collapse;\n",
       "  }\n",
       "  th, td {\n",
       "    padding: 5px;\n",
       "  }\n",
       "  th {\n",
       "    text-align: left;\n",
       "  }\n",
       "</style><div class='table-result-container'><table class='table-result'><thead style='background-color: white'><tr><th>country</th><th>category</th><th>category_count</th></tr></thead><tbody><tr><td>Afghanistan</td><td>education</td><td>6</td></tr><tr><td>Albania</td><td>beauty</td><td>6</td></tr><tr><td>Algeria</td><td>quotes</td><td>11</td></tr><tr><td>American Samoa</td><td>tattoos</td><td>5</td></tr><tr><td>Andorra</td><td>tattoos</td><td>5</td></tr><tr><td>Angola</td><td>diy-and-crafts</td><td>3</td></tr><tr><td>Anguilla</td><td>christmas</td><td>2</td></tr><tr><td>Antarctica (the territory South of 60 deg S)</td><td>tattoos</td><td>2</td></tr><tr><td>Antigua and Barbuda</td><td>christmas</td><td>5</td></tr><tr><td>Argentina</td><td>tattoos</td><td>5</td></tr><tr><td>Armenia</td><td>diy-and-crafts</td><td>3</td></tr><tr><td>Aruba</td><td>mens-fashion</td><td>5</td></tr><tr><td>Australia</td><td>mens-fashion</td><td>2</td></tr><tr><td>Austria</td><td>travel</td><td>2</td></tr><tr><td>Azerbaijan</td><td>event-planning</td><td>2</td></tr><tr><td>Bahamas</td><td>event-planning</td><td>1</td></tr><tr><td>Bahrain</td><td>travel</td><td>2</td></tr><tr><td>Bangladesh</td><td>christmas</td><td>3</td></tr><tr><td>Barbados</td><td>education</td><td>2</td></tr><tr><td>Belarus</td><td>vehicles</td><td>1</td></tr><tr><td>Belgium</td><td>travel</td><td>1</td></tr><tr><td>Belize</td><td>mens-fashion</td><td>2</td></tr><tr><td>Benin</td><td>travel</td><td>1</td></tr><tr><td>Bermuda</td><td>beauty</td><td>1</td></tr><tr><td>Bhutan</td><td>diy-and-crafts</td><td>1</td></tr><tr><td>Bolivia</td><td>home-decor</td><td>2</td></tr><tr><td>Bosnia and Herzegovina</td><td>christmas</td><td>1</td></tr><tr><td>Botswana</td><td>tattoos</td><td>2</td></tr><tr><td>Bouvet Island (Bouvetoya)</td><td>tattoos</td><td>2</td></tr><tr><td>Brazil</td><td>event-planning</td><td>1</td></tr><tr><td>British Virgin Islands</td><td>education</td><td>1</td></tr><tr><td>Brunei Darussalam</td><td>diy-and-crafts</td><td>1</td></tr><tr><td>Bulgaria</td><td>christmas</td><td>2</td></tr><tr><td>Burkina Faso</td><td>quotes</td><td>1</td></tr><tr><td>Burundi</td><td>mens-fashion</td><td>1</td></tr><tr><td>Cambodia</td><td>beauty</td><td>1</td></tr><tr><td>Cameroon</td><td>diy-and-crafts</td><td>1</td></tr><tr><td>Canada</td><td>travel</td><td>1</td></tr><tr><td>Cape Verde</td><td>diy-and-crafts</td><td>1</td></tr><tr><td>Cayman Islands</td><td>travel</td><td>1</td></tr><tr><td>Central African Republic</td><td>travel</td><td>1</td></tr><tr><td>Chile</td><td>quotes</td><td>1</td></tr><tr><td>Christmas Island</td><td>travel</td><td>1</td></tr><tr><td>Cocos (Keeling) Islands</td><td>travel</td><td>1</td></tr><tr><td>Colombia</td><td>finance</td><td>2</td></tr><tr><td>Comoros</td><td>education</td><td>1</td></tr><tr><td>Congo</td><td>art</td><td>4</td></tr><tr><td>Costa Rica</td><td>home-decor</td><td>1</td></tr><tr><td>Cote d'Ivoire</td><td>education</td><td>1</td></tr><tr><td>Croatia</td><td>finance</td><td>2</td></tr><tr><td>Cuba</td><td>home-decor</td><td>1</td></tr><tr><td>Cyprus</td><td>home-decor</td><td>1</td></tr><tr><td>Czech Republic</td><td>event-planning</td><td>1</td></tr><tr><td>Denmark</td><td>beauty</td><td>4</td></tr><tr><td>Djibouti</td><td>diy-and-crafts</td><td>1</td></tr><tr><td>Dominica</td><td>diy-and-crafts</td><td>1</td></tr><tr><td>Dominican Republic</td><td>home-decor</td><td>2</td></tr><tr><td>Ecuador</td><td>mens-fashion</td><td>2</td></tr><tr><td>Egypt</td><td>diy-and-crafts</td><td>1</td></tr><tr><td>El Salvador</td><td>event-planning</td><td>1</td></tr><tr><td>Equatorial Guinea</td><td>mens-fashion</td><td>1</td></tr><tr><td>Estonia</td><td>christmas</td><td>1</td></tr><tr><td>Ethiopia</td><td>tattoos</td><td>1</td></tr><tr><td>Faroe Islands</td><td>finance</td><td>1</td></tr><tr><td>Fiji</td><td>education</td><td>1</td></tr><tr><td>Finland</td><td>beauty</td><td>1</td></tr><tr><td>France</td><td>beauty</td><td>1</td></tr><tr><td>French Guiana</td><td>art</td><td>1</td></tr><tr><td>French Polynesia</td><td>quotes</td><td>1</td></tr><tr><td>French Southern Territories</td><td>home-decor</td><td>1</td></tr><tr><td>Gabon</td><td>travel</td><td>1</td></tr><tr><td>Georgia</td><td>education</td><td>2</td></tr><tr><td>Germany</td><td>finance</td><td>1</td></tr><tr><td>Ghana</td><td>art</td><td>1</td></tr><tr><td>Gibraltar</td><td>art</td><td>1</td></tr><tr><td>Greece</td><td>event-planning</td><td>1</td></tr><tr><td>Greenland</td><td>education</td><td>1</td></tr><tr><td>Grenada</td><td>finance</td><td>1</td></tr><tr><td>Guadeloupe</td><td>home-decor</td><td>1</td></tr><tr><td>Guam</td><td>travel</td><td>1</td></tr><tr><td>Guatemala</td><td>finance</td><td>1</td></tr><tr><td>Guinea</td><td>christmas</td><td>1</td></tr><tr><td>Guinea-Bissau</td><td>christmas</td><td>1</td></tr><tr><td>Haiti</td><td>finance</td><td>1</td></tr><tr><td>Holy See (Vatican City State)</td><td>mens-fashion</td><td>1</td></tr><tr><td>Hungary</td><td>event-planning</td><td>1</td></tr><tr><td>India</td><td>beauty</td><td>1</td></tr><tr><td>Indonesia</td><td>finance</td><td>1</td></tr><tr><td>Iran</td><td>christmas</td><td>1</td></tr><tr><td>Ireland</td><td>home-decor</td><td>1</td></tr><tr><td>Isle of Man</td><td>art</td><td>2</td></tr><tr><td>Israel</td><td>art</td><td>1</td></tr><tr><td>Jamaica</td><td>vehicles</td><td>1</td></tr><tr><td>Japan</td><td>art</td><td>1</td></tr><tr><td>Kenya</td><td>diy-and-crafts</td><td>1</td></tr><tr><td>Kiribati</td><td>beauty</td><td>1</td></tr><tr><td>Korea</td><td>beauty</td><td>1</td></tr><tr><td>Kuwait</td><td>christmas</td><td>1</td></tr><tr><td>Latvia</td><td>mens-fashion</td><td>4</td></tr><tr><td>Lesotho</td><td>art</td><td>1</td></tr><tr><td>Libyan Arab Jamahiriya</td><td>christmas</td><td>1</td></tr><tr><td>Liechtenstein</td><td>quotes</td><td>1</td></tr><tr><td>Lithuania</td><td>education</td><td>1</td></tr><tr><td>Luxembourg</td><td>education</td><td>1</td></tr><tr><td>Macao</td><td>mens-fashion</td><td>1</td></tr><tr><td>Macedonia</td><td>tattoos</td><td>1</td></tr><tr><td>Madagascar</td><td>event-planning</td><td>1</td></tr><tr><td>Malawi</td><td>travel</td><td>1</td></tr><tr><td>Maldives</td><td>event-planning</td><td>1</td></tr><tr><td>Mali</td><td>christmas</td><td>1</td></tr><tr><td>Malta</td><td>beauty</td><td>1</td></tr><tr><td>Marshall Islands</td><td>home-decor</td><td>1</td></tr><tr><td>Martinique</td><td>quotes</td><td>1</td></tr><tr><td>Mauritania</td><td>education</td><td>1</td></tr><tr><td>Mauritius</td><td>mens-fashion</td><td>1</td></tr><tr><td>Moldova</td><td>home-decor</td><td>1</td></tr><tr><td>Monaco</td><td>vehicles</td><td>1</td></tr><tr><td>Montserrat</td><td>art</td><td>1</td></tr><tr><td>Morocco</td><td>quotes</td><td>1</td></tr><tr><td>Mozambique</td><td>home-decor</td><td>1</td></tr><tr><td>Namibia</td><td>quotes</td><td>1</td></tr><tr><td>Nauru</td><td>travel</td><td>1</td></tr><tr><td>Netherlands</td><td>home-decor</td><td>1</td></tr><tr><td>Netherlands Antilles</td><td>art</td><td>1</td></tr><tr><td>New Caledonia</td><td>mens-fashion</td><td>1</td></tr><tr><td>New Zealand</td><td>tattoos</td><td>1</td></tr><tr><td>Nicaragua</td><td>vehicles</td><td>1</td></tr><tr><td>Niger</td><td>education</td><td>1</td></tr><tr><td>Nigeria</td><td>christmas</td><td>1</td></tr><tr><td>Niue</td><td>quotes</td><td>2</td></tr><tr><td>Norfolk Island</td><td>event-planning</td><td>1</td></tr><tr><td>Norway</td><td>travel</td><td>1</td></tr><tr><td>Panama</td><td>travel</td><td>4</td></tr><tr><td>Papua New Guinea</td><td>quotes</td><td>1</td></tr><tr><td>Paraguay</td><td>vehicles</td><td>1</td></tr><tr><td>Peru</td><td>vehicles</td><td>1</td></tr><tr><td>Philippines</td><td>event-planning</td><td>1</td></tr><tr><td>Pitcairn Islands</td><td>diy-and-crafts</td><td>1</td></tr><tr><td>Poland</td><td>event-planning</td><td>1</td></tr><tr><td>Portugal</td><td>diy-and-crafts</td><td>1</td></tr><tr><td>Puerto Rico</td><td>event-planning</td><td>1</td></tr><tr><td>Romania</td><td>art</td><td>1</td></tr><tr><td>Saint Barthelemy</td><td>education</td><td>1</td></tr><tr><td>Saint Helena</td><td>beauty</td><td>1</td></tr><tr><td>Saint Kitts and Nevis</td><td>vehicles</td><td>1</td></tr><tr><td>Saint Martin</td><td>christmas</td><td>1</td></tr><tr><td>Saint Pierre and Miquelon</td><td>mens-fashion</td><td>2</td></tr><tr><td>Saint Vincent and the Grenadines</td><td>christmas</td><td>1</td></tr><tr><td>Samoa</td><td>diy-and-crafts</td><td>1</td></tr><tr><td>Sao Tome and Principe</td><td>finance</td><td>1</td></tr><tr><td>Saudi Arabia</td><td>finance</td><td>1</td></tr><tr><td>Serbia</td><td>travel</td><td>1</td></tr><tr><td>Seychelles</td><td>beauty</td><td>1</td></tr><tr><td>Singapore</td><td>vehicles</td><td>1</td></tr><tr><td>Slovakia (Slovak Republic)</td><td>vehicles</td><td>1</td></tr><tr><td>Slovenia</td><td>beauty</td><td>1</td></tr><tr><td>Solomon Islands</td><td>mens-fashion</td><td>1</td></tr><tr><td>Somalia</td><td>quotes</td><td>1</td></tr><tr><td>South Africa</td><td>vehicles</td><td>1</td></tr><tr><td>Sudan</td><td>art</td><td>1</td></tr><tr><td>Svalbard & Jan Mayen Islands</td><td>travel</td><td>1</td></tr><tr><td>Swaziland</td><td>travel</td><td>1</td></tr><tr><td>Sweden</td><td>mens-fashion</td><td>1</td></tr><tr><td>Tanzania</td><td>art</td><td>1</td></tr><tr><td>Togo</td><td>christmas</td><td>1</td></tr><tr><td>Tonga</td><td>beauty</td><td>1</td></tr><tr><td>Trinidad and Tobago</td><td>christmas</td><td>1</td></tr><tr><td>Tunisia</td><td>travel</td><td>1</td></tr><tr><td>Turkey</td><td>education</td><td>1</td></tr><tr><td>Turkmenistan</td><td>event-planning</td><td>1</td></tr><tr><td>Tuvalu</td><td>tattoos</td><td>1</td></tr><tr><td>Uganda</td><td>christmas</td><td>2</td></tr><tr><td>United States Virgin Islands</td><td>quotes</td><td>1</td></tr><tr><td>Venezuela</td><td>diy-and-crafts</td><td>1</td></tr><tr><td>Vietnam</td><td>quotes</td><td>1</td></tr><tr><td>Wallis and Futuna</td><td>home-decor</td><td>1</td></tr></tbody></table></div>"
      ]
     },
     "metadata": {
      "application/vnd.databricks.v1+output": {
       "addedWidgets": {},
       "aggData": [],
       "aggError": "",
       "aggOverflow": false,
       "aggSchema": [],
       "aggSeriesLimitReached": false,
       "aggType": "",
       "arguments": {},
       "columnCustomDisplayInfos": {},
       "data": [
        [
         "Afghanistan",
         "education",
         6
        ],
        [
         "Albania",
         "beauty",
         6
        ],
        [
         "Algeria",
         "quotes",
         11
        ],
        [
         "American Samoa",
         "tattoos",
         5
        ],
        [
         "Andorra",
         "tattoos",
         5
        ],
        [
         "Angola",
         "diy-and-crafts",
         3
        ],
        [
         "Anguilla",
         "christmas",
         2
        ],
        [
         "Antarctica (the territory South of 60 deg S)",
         "tattoos",
         2
        ],
        [
         "Antigua and Barbuda",
         "christmas",
         5
        ],
        [
         "Argentina",
         "tattoos",
         5
        ],
        [
         "Armenia",
         "diy-and-crafts",
         3
        ],
        [
         "Aruba",
         "mens-fashion",
         5
        ],
        [
         "Australia",
         "mens-fashion",
         2
        ],
        [
         "Austria",
         "travel",
         2
        ],
        [
         "Azerbaijan",
         "event-planning",
         2
        ],
        [
         "Bahamas",
         "event-planning",
         1
        ],
        [
         "Bahrain",
         "travel",
         2
        ],
        [
         "Bangladesh",
         "christmas",
         3
        ],
        [
         "Barbados",
         "education",
         2
        ],
        [
         "Belarus",
         "vehicles",
         1
        ],
        [
         "Belgium",
         "travel",
         1
        ],
        [
         "Belize",
         "mens-fashion",
         2
        ],
        [
         "Benin",
         "travel",
         1
        ],
        [
         "Bermuda",
         "beauty",
         1
        ],
        [
         "Bhutan",
         "diy-and-crafts",
         1
        ],
        [
         "Bolivia",
         "home-decor",
         2
        ],
        [
         "Bosnia and Herzegovina",
         "christmas",
         1
        ],
        [
         "Botswana",
         "tattoos",
         2
        ],
        [
         "Bouvet Island (Bouvetoya)",
         "tattoos",
         2
        ],
        [
         "Brazil",
         "event-planning",
         1
        ],
        [
         "British Virgin Islands",
         "education",
         1
        ],
        [
         "Brunei Darussalam",
         "diy-and-crafts",
         1
        ],
        [
         "Bulgaria",
         "christmas",
         2
        ],
        [
         "Burkina Faso",
         "quotes",
         1
        ],
        [
         "Burundi",
         "mens-fashion",
         1
        ],
        [
         "Cambodia",
         "beauty",
         1
        ],
        [
         "Cameroon",
         "diy-and-crafts",
         1
        ],
        [
         "Canada",
         "travel",
         1
        ],
        [
         "Cape Verde",
         "diy-and-crafts",
         1
        ],
        [
         "Cayman Islands",
         "travel",
         1
        ],
        [
         "Central African Republic",
         "travel",
         1
        ],
        [
         "Chile",
         "quotes",
         1
        ],
        [
         "Christmas Island",
         "travel",
         1
        ],
        [
         "Cocos (Keeling) Islands",
         "travel",
         1
        ],
        [
         "Colombia",
         "finance",
         2
        ],
        [
         "Comoros",
         "education",
         1
        ],
        [
         "Congo",
         "art",
         4
        ],
        [
         "Costa Rica",
         "home-decor",
         1
        ],
        [
         "Cote d'Ivoire",
         "education",
         1
        ],
        [
         "Croatia",
         "finance",
         2
        ],
        [
         "Cuba",
         "home-decor",
         1
        ],
        [
         "Cyprus",
         "home-decor",
         1
        ],
        [
         "Czech Republic",
         "event-planning",
         1
        ],
        [
         "Denmark",
         "beauty",
         4
        ],
        [
         "Djibouti",
         "diy-and-crafts",
         1
        ],
        [
         "Dominica",
         "diy-and-crafts",
         1
        ],
        [
         "Dominican Republic",
         "home-decor",
         2
        ],
        [
         "Ecuador",
         "mens-fashion",
         2
        ],
        [
         "Egypt",
         "diy-and-crafts",
         1
        ],
        [
         "El Salvador",
         "event-planning",
         1
        ],
        [
         "Equatorial Guinea",
         "mens-fashion",
         1
        ],
        [
         "Estonia",
         "christmas",
         1
        ],
        [
         "Ethiopia",
         "tattoos",
         1
        ],
        [
         "Faroe Islands",
         "finance",
         1
        ],
        [
         "Fiji",
         "education",
         1
        ],
        [
         "Finland",
         "beauty",
         1
        ],
        [
         "France",
         "beauty",
         1
        ],
        [
         "French Guiana",
         "art",
         1
        ],
        [
         "French Polynesia",
         "quotes",
         1
        ],
        [
         "French Southern Territories",
         "home-decor",
         1
        ],
        [
         "Gabon",
         "travel",
         1
        ],
        [
         "Georgia",
         "education",
         2
        ],
        [
         "Germany",
         "finance",
         1
        ],
        [
         "Ghana",
         "art",
         1
        ],
        [
         "Gibraltar",
         "art",
         1
        ],
        [
         "Greece",
         "event-planning",
         1
        ],
        [
         "Greenland",
         "education",
         1
        ],
        [
         "Grenada",
         "finance",
         1
        ],
        [
         "Guadeloupe",
         "home-decor",
         1
        ],
        [
         "Guam",
         "travel",
         1
        ],
        [
         "Guatemala",
         "finance",
         1
        ],
        [
         "Guinea",
         "christmas",
         1
        ],
        [
         "Guinea-Bissau",
         "christmas",
         1
        ],
        [
         "Haiti",
         "finance",
         1
        ],
        [
         "Holy See (Vatican City State)",
         "mens-fashion",
         1
        ],
        [
         "Hungary",
         "event-planning",
         1
        ],
        [
         "India",
         "beauty",
         1
        ],
        [
         "Indonesia",
         "finance",
         1
        ],
        [
         "Iran",
         "christmas",
         1
        ],
        [
         "Ireland",
         "home-decor",
         1
        ],
        [
         "Isle of Man",
         "art",
         2
        ],
        [
         "Israel",
         "art",
         1
        ],
        [
         "Jamaica",
         "vehicles",
         1
        ],
        [
         "Japan",
         "art",
         1
        ],
        [
         "Kenya",
         "diy-and-crafts",
         1
        ],
        [
         "Kiribati",
         "beauty",
         1
        ],
        [
         "Korea",
         "beauty",
         1
        ],
        [
         "Kuwait",
         "christmas",
         1
        ],
        [
         "Latvia",
         "mens-fashion",
         4
        ],
        [
         "Lesotho",
         "art",
         1
        ],
        [
         "Libyan Arab Jamahiriya",
         "christmas",
         1
        ],
        [
         "Liechtenstein",
         "quotes",
         1
        ],
        [
         "Lithuania",
         "education",
         1
        ],
        [
         "Luxembourg",
         "education",
         1
        ],
        [
         "Macao",
         "mens-fashion",
         1
        ],
        [
         "Macedonia",
         "tattoos",
         1
        ],
        [
         "Madagascar",
         "event-planning",
         1
        ],
        [
         "Malawi",
         "travel",
         1
        ],
        [
         "Maldives",
         "event-planning",
         1
        ],
        [
         "Mali",
         "christmas",
         1
        ],
        [
         "Malta",
         "beauty",
         1
        ],
        [
         "Marshall Islands",
         "home-decor",
         1
        ],
        [
         "Martinique",
         "quotes",
         1
        ],
        [
         "Mauritania",
         "education",
         1
        ],
        [
         "Mauritius",
         "mens-fashion",
         1
        ],
        [
         "Moldova",
         "home-decor",
         1
        ],
        [
         "Monaco",
         "vehicles",
         1
        ],
        [
         "Montserrat",
         "art",
         1
        ],
        [
         "Morocco",
         "quotes",
         1
        ],
        [
         "Mozambique",
         "home-decor",
         1
        ],
        [
         "Namibia",
         "quotes",
         1
        ],
        [
         "Nauru",
         "travel",
         1
        ],
        [
         "Netherlands",
         "home-decor",
         1
        ],
        [
         "Netherlands Antilles",
         "art",
         1
        ],
        [
         "New Caledonia",
         "mens-fashion",
         1
        ],
        [
         "New Zealand",
         "tattoos",
         1
        ],
        [
         "Nicaragua",
         "vehicles",
         1
        ],
        [
         "Niger",
         "education",
         1
        ],
        [
         "Nigeria",
         "christmas",
         1
        ],
        [
         "Niue",
         "quotes",
         2
        ],
        [
         "Norfolk Island",
         "event-planning",
         1
        ],
        [
         "Norway",
         "travel",
         1
        ],
        [
         "Panama",
         "travel",
         4
        ],
        [
         "Papua New Guinea",
         "quotes",
         1
        ],
        [
         "Paraguay",
         "vehicles",
         1
        ],
        [
         "Peru",
         "vehicles",
         1
        ],
        [
         "Philippines",
         "event-planning",
         1
        ],
        [
         "Pitcairn Islands",
         "diy-and-crafts",
         1
        ],
        [
         "Poland",
         "event-planning",
         1
        ],
        [
         "Portugal",
         "diy-and-crafts",
         1
        ],
        [
         "Puerto Rico",
         "event-planning",
         1
        ],
        [
         "Romania",
         "art",
         1
        ],
        [
         "Saint Barthelemy",
         "education",
         1
        ],
        [
         "Saint Helena",
         "beauty",
         1
        ],
        [
         "Saint Kitts and Nevis",
         "vehicles",
         1
        ],
        [
         "Saint Martin",
         "christmas",
         1
        ],
        [
         "Saint Pierre and Miquelon",
         "mens-fashion",
         2
        ],
        [
         "Saint Vincent and the Grenadines",
         "christmas",
         1
        ],
        [
         "Samoa",
         "diy-and-crafts",
         1
        ],
        [
         "Sao Tome and Principe",
         "finance",
         1
        ],
        [
         "Saudi Arabia",
         "finance",
         1
        ],
        [
         "Serbia",
         "travel",
         1
        ],
        [
         "Seychelles",
         "beauty",
         1
        ],
        [
         "Singapore",
         "vehicles",
         1
        ],
        [
         "Slovakia (Slovak Republic)",
         "vehicles",
         1
        ],
        [
         "Slovenia",
         "beauty",
         1
        ],
        [
         "Solomon Islands",
         "mens-fashion",
         1
        ],
        [
         "Somalia",
         "quotes",
         1
        ],
        [
         "South Africa",
         "vehicles",
         1
        ],
        [
         "Sudan",
         "art",
         1
        ],
        [
         "Svalbard & Jan Mayen Islands",
         "travel",
         1
        ],
        [
         "Swaziland",
         "travel",
         1
        ],
        [
         "Sweden",
         "mens-fashion",
         1
        ],
        [
         "Tanzania",
         "art",
         1
        ],
        [
         "Togo",
         "christmas",
         1
        ],
        [
         "Tonga",
         "beauty",
         1
        ],
        [
         "Trinidad and Tobago",
         "christmas",
         1
        ],
        [
         "Tunisia",
         "travel",
         1
        ],
        [
         "Turkey",
         "education",
         1
        ],
        [
         "Turkmenistan",
         "event-planning",
         1
        ],
        [
         "Tuvalu",
         "tattoos",
         1
        ],
        [
         "Uganda",
         "christmas",
         2
        ],
        [
         "United States Virgin Islands",
         "quotes",
         1
        ],
        [
         "Venezuela",
         "diy-and-crafts",
         1
        ],
        [
         "Vietnam",
         "quotes",
         1
        ],
        [
         "Wallis and Futuna",
         "home-decor",
         1
        ]
       ],
       "datasetInfos": [],
       "dbfsResultPath": null,
       "isJsonSchema": true,
       "metadata": {
        "dataframeName": "_sqldf",
        "executionCount": 9
       },
       "overflow": false,
       "plotOptions": {
        "customPlotOptions": {},
        "displayType": "table",
        "pivotAggregation": null,
        "pivotColumns": null,
        "xColumns": null,
        "yColumns": null
       },
       "removedWidgets": [],
       "schema": [
        {
         "metadata": "{}",
         "name": "country",
         "type": "\"string\""
        },
        {
         "metadata": "{}",
         "name": "category",
         "type": "\"string\""
        },
        {
         "metadata": "{}",
         "name": "category_count",
         "type": "\"long\""
        }
       ],
       "type": "table"
      }
     },
     "output_type": "display_data"
    }
   ],
   "source": [
    "%sql\n",
    "WITH ranked_categories AS (\n",
    "    SELECT \n",
    "        g.country,\n",
    "        p.category,\n",
    "        COUNT(p.category) AS category_count,\n",
    "        ROW_NUMBER() OVER (PARTITION BY g.country ORDER BY COUNT(p.category) DESC) AS rank\n",
    "    FROM\n",
    "        geo_table g\n",
    "    JOIN\n",
    "        pin_table p ON g.ind = p.ind\n",
    "    GROUP BY\n",
    "        g.country, p.category\n",
    ")\n",
    "SELECT\n",
    "    country,\n",
    "    category,\n",
    "    category_count\n",
    "FROM\n",
    "    ranked_categories\n",
    "WHERE\n",
    "    rank = 1\n",
    "ORDER BY\n",
    "    country;\n"
   ]
  },
  {
   "cell_type": "code",
   "execution_count": 0,
   "metadata": {
    "application/vnd.databricks.v1+cell": {
     "cellMetadata": {
      "byteLimit": 2048000,
      "implicitDf": true,
      "rowLimit": 10000
     },
     "inputWidgets": {},
     "nuid": "c60e3d16-d86c-4da7-bfcb-1beb1de0b1fe",
     "showTitle": false,
     "tableResultSettingsMap": {},
     "title": ""
    }
   },
   "outputs": [
    {
     "data": {
      "text/html": [
       "<style scoped>\n",
       "  .table-result-container {\n",
       "    max-height: 300px;\n",
       "    overflow: auto;\n",
       "  }\n",
       "  table, th, td {\n",
       "    border: 1px solid black;\n",
       "    border-collapse: collapse;\n",
       "  }\n",
       "  th, td {\n",
       "    padding: 5px;\n",
       "  }\n",
       "  th {\n",
       "    text-align: left;\n",
       "  }\n",
       "</style><div class='table-result-container'><table class='table-result'><thead style='background-color: white'><tr><th>post_year</th><th>category</th><th>category_count</th></tr></thead><tbody><tr><td>2018</td><td>education</td><td>12</td></tr><tr><td>2019</td><td>travel</td><td>12</td></tr><tr><td>2020</td><td>finance</td><td>12</td></tr><tr><td>2021</td><td>tattoos</td><td>11</td></tr><tr><td>2022</td><td>christmas</td><td>14</td></tr></tbody></table></div>"
      ]
     },
     "metadata": {
      "application/vnd.databricks.v1+output": {
       "addedWidgets": {},
       "aggData": [],
       "aggError": "",
       "aggOverflow": false,
       "aggSchema": [],
       "aggSeriesLimitReached": false,
       "aggType": "",
       "arguments": {},
       "columnCustomDisplayInfos": {},
       "data": [
        [
         2018,
         "education",
         12
        ],
        [
         2019,
         "travel",
         12
        ],
        [
         2020,
         "finance",
         12
        ],
        [
         2021,
         "tattoos",
         11
        ],
        [
         2022,
         "christmas",
         14
        ]
       ],
       "datasetInfos": [],
       "dbfsResultPath": null,
       "isJsonSchema": true,
       "metadata": {
        "dataframeName": "_sqldf",
        "executionCount": 10
       },
       "overflow": false,
       "plotOptions": {
        "customPlotOptions": {},
        "displayType": "table",
        "pivotAggregation": null,
        "pivotColumns": null,
        "xColumns": null,
        "yColumns": null
       },
       "removedWidgets": [],
       "schema": [
        {
         "metadata": "{}",
         "name": "post_year",
         "type": "\"integer\""
        },
        {
         "metadata": "{}",
         "name": "category",
         "type": "\"string\""
        },
        {
         "metadata": "{}",
         "name": "category_count",
         "type": "\"long\""
        }
       ],
       "type": "table"
      }
     },
     "output_type": "display_data"
    }
   ],
   "source": [
    "%sql\n",
    "WITH ranked_categories AS (\n",
    "    SELECT\n",
    "        YEAR(g.timestamp) AS post_year,\n",
    "        p.category,\n",
    "        COUNT(p.category) AS category_count,\n",
    "        ROW_NUMBER() OVER (PARTITION BY YEAR(g.timestamp) ORDER BY COUNT(p.category) DESC) AS rank\n",
    "    FROM  \n",
    "        pin_table p\n",
    "    JOIN\n",
    "        geo_table g ON p.ind = g.ind\n",
    "    WHERE \n",
    "        YEAR(g.timestamp) BETWEEN 2018 AND 2022\n",
    "    GROUP BY\n",
    "        p.category, YEAR(g.timestamp)\n",
    ")\n",
    "SELECT\n",
    "    post_year,\n",
    "    category,\n",
    "    category_count\n",
    "FROM\n",
    "    ranked_categories\n",
    "WHERE\n",
    "    rank = 1\n",
    "ORDER BY\n",
    "    post_year;\n"
   ]
  },
  {
   "cell_type": "code",
   "execution_count": 0,
   "metadata": {
    "application/vnd.databricks.v1+cell": {
     "cellMetadata": {
      "byteLimit": 2048000,
      "implicitDf": true,
      "rowLimit": 10000
     },
     "inputWidgets": {},
     "nuid": "a0f20d9f-7300-433d-9357-c4b7dec91780",
     "showTitle": false,
     "tableResultSettingsMap": {},
     "title": ""
    }
   },
   "outputs": [
    {
     "data": {
      "text/html": [
       "<style scoped>\n",
       "  .table-result-container {\n",
       "    max-height: 300px;\n",
       "    overflow: auto;\n",
       "  }\n",
       "  table, th, td {\n",
       "    border: 1px solid black;\n",
       "    border-collapse: collapse;\n",
       "  }\n",
       "  th, td {\n",
       "    padding: 5px;\n",
       "  }\n",
       "  th {\n",
       "    text-align: left;\n",
       "  }\n",
       "</style><div class='table-result-container'><table class='table-result'><thead style='background-color: white'><tr><th>country</th><th>poster_name</th><th>follower_count</th></tr></thead><tbody><tr><td>American Samoa</td><td>Mamas Uncut</td><td>8000000</td></tr><tr><td>Angola</td><td>Tastemade</td><td>8000000</td></tr><tr><td>Azerbaijan</td><td>Style Me Pretty</td><td>6000000</td></tr><tr><td>Burkina Faso</td><td>Behance</td><td>6000000</td></tr><tr><td>Albania</td><td>The Minds Journal</td><td>5000000</td></tr><tr><td>Bouvet Island (Bouvetoya)</td><td>POPSUGAR</td><td>5000000</td></tr><tr><td>Bangladesh</td><td>Better Homes and Gardens</td><td>4000000</td></tr><tr><td>Afghanistan</td><td>9GAG</td><td>3000000</td></tr><tr><td>Botswana</td><td>OkChicas</td><td>3000000</td></tr><tr><td>Christmas Island</td><td>Instructables</td><td>3000000</td></tr><tr><td>Uganda</td><td>Inspired by Charm</td><td>3000000</td></tr><tr><td>Costa Rica</td><td>Martha Stewart Living</td><td>2000000</td></tr><tr><td>Kuwait</td><td>Green Wedding Shoes</td><td>2000000</td></tr><tr><td>Andorra</td><td>Teachers Pay Teachers</td><td>1000000</td></tr><tr><td>Antarctica (the territory South of 60 deg S)</td><td>Refinery29</td><td>1000000</td></tr><tr><td>Antigua and Barbuda</td><td>Country Living Magazine</td><td>1000000</td></tr><tr><td>Australia</td><td>Cultura Colectiva</td><td>1000000</td></tr><tr><td>Martinique</td><td>Heart Handmade UK | Craft Room Ideas, Craft Ideas For Adults</td><td>1000000</td></tr><tr><td>Bahamas</td><td>Handmade Charlotte</td><td>948000</td></tr><tr><td>Algeria</td><td>YourTango</td><td>942000</td></tr><tr><td>Bulgaria</td><td>Half Baked Harvest</td><td>912000</td></tr><tr><td>Lesotho</td><td>The Guardian</td><td>908000</td></tr><tr><td>Armenia</td><td>Michelle {CraftyMorning.com}</td><td>892000</td></tr><tr><td>Aruba</td><td>GQ Magazine</td><td>874000</td></tr><tr><td>Central African Republic</td><td>PureWow</td><td>868000</td></tr><tr><td>Argentina</td><td>Next Luxury</td><td>800000</td></tr><tr><td>Pitcairn Islands</td><td>Marla Meridith</td><td>671000</td></tr><tr><td>Korea</td><td>Latest Hairstyles</td><td>627000</td></tr><tr><td>Burundi</td><td>Macho Moda</td><td>620000</td></tr><tr><td>Cambodia</td><td>Blusher</td><td>583000</td></tr><tr><td>Maldives</td><td>Parents</td><td>416000</td></tr><tr><td>Barbados</td><td>The Creativity Exchange</td><td>410000</td></tr><tr><td>Czech Republic</td><td>Tatertots and Jello .com</td><td>398000</td></tr><tr><td>Greece</td><td>Thirty Handmade Days</td><td>397000</td></tr><tr><td>Cuba</td><td>Listotic - Easy Ideas | Fun DIY Projects | Easy Recipes | Lists</td><td>307000</td></tr><tr><td>Brunei Darussalam</td><td>Kids Craft Room</td><td>277000</td></tr><tr><td>Niue</td><td>Michelle | Brown Eyed Baker</td><td>271000</td></tr><tr><td>Canada</td><td>Giorgenti New York</td><td>258000</td></tr><tr><td>British Virgin Islands</td><td>Kitchen Fun With My 3 Sons</td><td>245000</td></tr><tr><td>Bolivia</td><td>Kimberly West (a girl and a glue gun)</td><td>243000</td></tr><tr><td>French Guiana</td><td>Sweet Red Poppy Free Sewing Patterns, Cut Files & Craft Tutorials</td><td>241000</td></tr><tr><td>Monaco</td><td>Artists Network</td><td>227000</td></tr><tr><td>El Salvador</td><td>Power of Positivity</td><td>221000</td></tr><tr><td>Guam</td><td>Amanda Green Bottoms @ kevinandamanda.com</td><td>219000</td></tr><tr><td>Georgia</td><td>Susie Allison | Busy Toddler</td><td>203000</td></tr><tr><td>Comoros</td><td>Becky Mansfield - YourModernFamily </td><td>196000</td></tr><tr><td>Cote d'Ivoire</td><td>The Crafting Chicks</td><td>192000</td></tr><tr><td>Latvia</td><td>Royal Fashionist</td><td>188000</td></tr><tr><td>Cape Verde</td><td>Sand and Sisal</td><td>178000</td></tr><tr><td>Saint Kitts and Nevis</td><td>vintagetopia</td><td>171000</td></tr><tr><td>Namibia</td><td>Snappy Gourmet</td><td>168000</td></tr><tr><td>India</td><td>Happiness is Homemade | Crafts, Printables, Party Ideas, & More!</td><td>167000</td></tr><tr><td>Austria</td><td>Totschooling | Toddler & Preschool Printable Activities</td><td>161000</td></tr><tr><td>Libyan Arab Jamahiriya</td><td>miss coco</td><td>157000</td></tr><tr><td>Colombia</td><td>Jordan Page | Fun Cheap or Free</td><td>152000</td></tr><tr><td>Indonesia</td><td>Lifehacker</td><td>141000</td></tr><tr><td>Netherlands</td><td>PUFIK Interiors & Inspirations</td><td>136000</td></tr><tr><td>Croatia</td><td>Live Like You Are Rich | Finances, Pregnancy, Recipes & More</td><td>134000</td></tr><tr><td>Djibouti</td><td>Katepickle - picklebums - fun ideas for families</td><td>130000</td></tr><tr><td>Mali</td><td>Mobile Home Living®</td><td>122000</td></tr><tr><td>Madagascar</td><td>MomAdvice</td><td>112000</td></tr><tr><td>Dominican Republic</td><td>Wonder Forest</td><td>104000</td></tr><tr><td>Venezuela</td><td>My Poppet - A Craft, Travel & Food Blog for Colourful Living</td><td>100000</td></tr><tr><td>Anguilla</td><td>Kristen | Lifestyle, Mom Tips & Teacher Stuff Blog</td><td>92000</td></tr><tr><td>Gibraltar</td><td>TheSuperBOO!</td><td>89000</td></tr><tr><td>Cameroon</td><td>Made to be a Momma</td><td>85000</td></tr><tr><td>Guatemala</td><td>Menucha - Moms and Crafters</td><td>85000</td></tr><tr><td>Ecuador</td><td>LABONNI</td><td>84000</td></tr><tr><td>Mozambique</td><td>Stylin by Aylin</td><td>83000</td></tr><tr><td>Finland</td><td>Amee</td><td>79000</td></tr><tr><td>Guinea</td><td>Pam from Over the Big Moon</td><td>79000</td></tr><tr><td>Belgium</td><td>Happy Toddler Playtime</td><td>73000</td></tr><tr><td>Belize</td><td>Clary | IKEA hacks & DIY Project for home</td><td>67000</td></tr><tr><td>Dominica</td><td>Monique - Living Life and Learning</td><td>67000</td></tr><tr><td>Tunisia</td><td>El blog amarillo</td><td>66000</td></tr><tr><td>Congo</td><td>The Cards We Drew</td><td>64000</td></tr><tr><td>Guinea-Bissau</td><td>The Inspiration Edit - Best Instant Pot Recipes And Kids Crafts</td><td>56000</td></tr><tr><td>Isle of Man</td><td>Abbotts At Home</td><td>52000</td></tr><tr><td>Benin</td><td>Smart Cents Mom</td><td>49000</td></tr><tr><td>Ireland</td><td>Seeking Lavender Lane</td><td>49000</td></tr><tr><td>Bahrain</td><td>R.J. Weiss at The Ways To Wealth | Personal Finance | Debt Payoff</td><td>46000</td></tr><tr><td>Bermuda</td><td>Life on Summerhill | Home, Holiday Decor & DIY Website</td><td>46000</td></tr><tr><td>Mauritius</td><td>Cool Things- Drawing Ideas , Fashion ,Beautiy and Home Decor</td><td>46000</td></tr><tr><td>Nauru</td><td>The Intrepid Guide | Language Learning for Travel</td><td>45000</td></tr><tr><td>Moldova</td><td>A Blossoming Life DIY Projects + Recipes +     Natural Living</td><td>44000</td></tr><tr><td>Fiji</td><td>Teach Create Motivate</td><td>41000</td></tr><tr><td>French Southern Territories</td><td>Salvaged Living</td><td>40000</td></tr><tr><td>Bosnia and Herzegovina</td><td>A Wonderful Thought</td><td>37000</td></tr><tr><td>Denmark</td><td>A Life Adjacent</td><td>36000</td></tr><tr><td>Luxembourg</td><td>Linda Kamp-Around The Kampfire</td><td>35000</td></tr><tr><td>Portugal</td><td>Lindsey Blogs</td><td>29000</td></tr><tr><td>Somalia</td><td>PutTheKettleOn | Self Care & Personal Growth For a Life You Love</td><td>27000</td></tr><tr><td>Cyprus</td><td>Lantern Lane Designs|Home Decor|DIY Projects|DIY Home Decor</td><td>25000</td></tr><tr><td>Mauritania</td><td>The Literacy Nest</td><td>22000</td></tr><tr><td>Seychelles</td><td>ALL FOR WOMAN</td><td>21000</td></tr><tr><td>Chile</td><td>Amber Strong - The Maker’s Map | DIY’s, Crafts & Home Decor</td><td>19000</td></tr><tr><td>Jamaica</td><td>Financial Toolkit</td><td>19000</td></tr><tr><td>New Zealand</td><td>ZENIDEES</td><td>19000</td></tr><tr><td>Ethiopia</td><td>Sarah Wahl | Crestfox</td><td>17000</td></tr><tr><td>Japan</td><td>Eyes On Walls</td><td>17000</td></tr><tr><td>French Polynesia</td><td>Alexandra Polunin</td><td>16000</td></tr><tr><td>Cayman Islands</td><td>Our Escape Clause l Travel in Europe & Beyond</td><td>15000</td></tr><tr><td>Vietnam</td><td>Leanne | Midlife Blogger at www.crestingthehill.com.au</td><td>15000</td></tr><tr><td>Malawi</td><td>Avenly Lane | Beauty, Fashion & Travel Inspiration</td><td>14000</td></tr><tr><td>Guadeloupe</td><td>Mommyhooding</td><td>13000</td></tr><tr><td>Marshall Islands</td><td>Dashing Darlin' </td><td>13000</td></tr><tr><td>Morocco</td><td>Two Southern Sweeties | Life After 50 + Second Act Lifestyle</td><td>13000</td></tr><tr><td>Brazil</td><td>Budget with Rachel</td><td>11000</td></tr><tr><td>Egypt</td><td>Lists For All</td><td>11000</td></tr><tr><td>Faroe Islands</td><td>Veterans United Home Loans</td><td>11000</td></tr><tr><td>Slovakia (Slovak Republic)</td><td>CollectorCarAds.com</td><td>11000</td></tr><tr><td>Equatorial Guinea</td><td>Whisper Wanderlust * Travel Blog</td><td>10000</td></tr><tr><td>Germany</td><td>Middle Class Dad</td><td>10000</td></tr><tr><td>Liechtenstein</td><td>Sophie's Way</td><td>10000</td></tr><tr><td>Lithuania</td><td>The Bespoke ELA Classroom</td><td>10000</td></tr><tr><td>Grenada</td><td>Young Adult Money</td><td>9000</td></tr><tr><td>Nicaragua</td><td>Land Rover USA</td><td>9000</td></tr><tr><td>Romania</td><td>Soberbadassery | Your Free Online Guide To Sober Living </td><td>9000</td></tr><tr><td>Saint Martin</td><td>Montgo Farmhouse</td><td>9000</td></tr><tr><td>Turkey</td><td>My Little Poppies (Cait Curley, MA/CAGS)</td><td>9000</td></tr><tr><td>France</td><td>Hey Pretty Beauty Blog</td><td>7000</td></tr><tr><td>Gabon</td><td>Expatolife</td><td>7000</td></tr><tr><td>Macedonia</td><td>Mary</td><td>7000</td></tr><tr><td>Netherlands Antilles</td><td>Kim Cook-Thirteen Chairs-Slates Mugs And Tees</td><td>7000</td></tr><tr><td>Solomon Islands</td><td>Upcyclist</td><td>7000</td></tr><tr><td>Turkmenistan</td><td>Dionne ❤️ Home & Life Organized</td><td>7000</td></tr><tr><td>Estonia</td><td>Decorator's Warehouse</td><td>6000</td></tr><tr><td>Norfolk Island</td><td>Lifestyle DIYW \"Live Life & Do IT Your Way\"</td><td>6000</td></tr><tr><td>Cocos (Keeling) Islands</td><td>The World Was Here First</td><td>5000</td></tr><tr><td>Haiti</td><td>Pamela Bell English</td><td>5000</td></tr><tr><td>Svalbard & Jan Mayen Islands</td><td>CK Travels (Travel Bloggers)</td><td>5000</td></tr><tr><td>Kenya</td><td>Laura- Inspire My Play | Play & Learning For Little Kids</td><td>4000</td></tr><tr><td>Montserrat</td><td>Taming Little Monsters - Fun Activities for Kids</td><td>4000</td></tr><tr><td>Niger</td><td>The Edvocate</td><td>4000</td></tr><tr><td>Togo</td><td>debra</td><td>4000</td></tr><tr><td>Bhutan</td><td>Kids Crafts & Free Preschool Printables- Sharing Our Experiences</td><td>3000</td></tr><tr><td>Israel</td><td>LISA MASLYK / VOICE OVER TALENT /ACTOR</td><td>3000</td></tr><tr><td>Macao</td><td>Vanessa Ferran</td><td>3000</td></tr><tr><td>Samoa</td><td>Coley Kuyper Art</td><td>3000</td></tr><tr><td>South Africa</td><td>Sophie Watters</td><td>3000</td></tr><tr><td>Swaziland</td><td>Laidback Trip</td><td>3000</td></tr><tr><td>Hungary</td><td>BalsaCircle</td><td>2000</td></tr><tr><td>Sao Tome and Principe</td><td>kayyla.april</td><td>2000</td></tr><tr><td>Wallis and Futuna</td><td>Organize Ways</td><td>2000</td></tr><tr><td>Panama</td><td>Alanna | Periodic Adventures</td><td>1000</td></tr><tr><td>Puerto Rico</td><td>Book More Brides</td><td>1000</td></tr><tr><td>Sudan</td><td>iElylike ..✿◕‿◕✿ஐ✿◕‿◕✿</td><td>940</td></tr><tr><td>Holy See (Vatican City State)</td><td>Mich Cam</td><td>831</td></tr><tr><td>Slovenia</td><td>Vsnicholls</td><td>746</td></tr><tr><td>Belarus</td><td>Ricky Lee</td><td>709</td></tr><tr><td>Saint Barthelemy</td><td>Alexandria Franko</td><td>517</td></tr><tr><td>Paraguay</td><td>Michal McCamman</td><td>392</td></tr><tr><td>Singapore</td><td>Lionel Leon</td><td>387</td></tr><tr><td>New Caledonia</td><td>Au'vey Smith</td><td>377</td></tr><tr><td>Saint Helena</td><td>The Pamper Place</td><td>328</td></tr><tr><td>Saint Pierre and Miquelon</td><td>Ebbert Barnes</td><td>323</td></tr><tr><td>Greenland</td><td>Haiti Babi | Artisan Baby Blankets and Hats</td><td>270</td></tr><tr><td>Poland</td><td>BEIMER</td><td>265</td></tr><tr><td>Trinidad and Tobago</td><td>Syndi Mulcahy</td><td>254</td></tr><tr><td>United States Virgin Islands</td><td>Amanda Harris</td><td>240</td></tr><tr><td>Saudi Arabia</td><td>Edwin | Cash The Checks | Find Your Perfect Side Hustle</td><td>223</td></tr><tr><td>Sweden</td><td>I. Sánchez</td><td>214</td></tr><tr><td>Ghana</td><td>jennifer</td><td>191</td></tr><tr><td>Norway</td><td>DailyDose</td><td>189</td></tr><tr><td>Nigeria</td><td>eyelashdance</td><td>164</td></tr><tr><td>Iran</td><td>Mandy Yancer</td><td>150</td></tr><tr><td>Papua New Guinea</td><td>AnnaLee Kick</td><td>112</td></tr><tr><td>Philippines</td><td>Life of Neon | Custom Neon Light Signs | Home Decor Wall Art</td><td>111</td></tr><tr><td>Serbia</td><td>VEM Designs</td><td>78</td></tr><tr><td>Tuvalu</td><td>Addymae Rodi</td><td>41</td></tr><tr><td>Tanzania</td><td>mj</td><td>26</td></tr><tr><td>Peru</td><td>Clar</td><td>21</td></tr><tr><td>Malta</td><td>Luis Alberto Martinez</td><td>13</td></tr><tr><td>Saint Vincent and the Grenadines</td><td>Home Etc</td><td>13</td></tr><tr><td>Kiribati</td><td>𝒍𝒖𝒄𝒉𝒊𝒊 ♡︎ </td><td>8</td></tr><tr><td>Tonga</td><td>Grecia Perales</td><td>0</td></tr></tbody></table></div>"
      ]
     },
     "metadata": {
      "application/vnd.databricks.v1+output": {
       "addedWidgets": {},
       "aggData": [],
       "aggError": "",
       "aggOverflow": false,
       "aggSchema": [],
       "aggSeriesLimitReached": false,
       "aggType": "",
       "arguments": {},
       "columnCustomDisplayInfos": {},
       "data": [
        [
         "American Samoa",
         "Mamas Uncut",
         8000000
        ],
        [
         "Angola",
         "Tastemade",
         8000000
        ],
        [
         "Azerbaijan",
         "Style Me Pretty",
         6000000
        ],
        [
         "Burkina Faso",
         "Behance",
         6000000
        ],
        [
         "Albania",
         "The Minds Journal",
         5000000
        ],
        [
         "Bouvet Island (Bouvetoya)",
         "POPSUGAR",
         5000000
        ],
        [
         "Bangladesh",
         "Better Homes and Gardens",
         4000000
        ],
        [
         "Afghanistan",
         "9GAG",
         3000000
        ],
        [
         "Botswana",
         "OkChicas",
         3000000
        ],
        [
         "Christmas Island",
         "Instructables",
         3000000
        ],
        [
         "Uganda",
         "Inspired by Charm",
         3000000
        ],
        [
         "Costa Rica",
         "Martha Stewart Living",
         2000000
        ],
        [
         "Kuwait",
         "Green Wedding Shoes",
         2000000
        ],
        [
         "Andorra",
         "Teachers Pay Teachers",
         1000000
        ],
        [
         "Antarctica (the territory South of 60 deg S)",
         "Refinery29",
         1000000
        ],
        [
         "Antigua and Barbuda",
         "Country Living Magazine",
         1000000
        ],
        [
         "Australia",
         "Cultura Colectiva",
         1000000
        ],
        [
         "Martinique",
         "Heart Handmade UK | Craft Room Ideas, Craft Ideas For Adults",
         1000000
        ],
        [
         "Bahamas",
         "Handmade Charlotte",
         948000
        ],
        [
         "Algeria",
         "YourTango",
         942000
        ],
        [
         "Bulgaria",
         "Half Baked Harvest",
         912000
        ],
        [
         "Lesotho",
         "The Guardian",
         908000
        ],
        [
         "Armenia",
         "Michelle {CraftyMorning.com}",
         892000
        ],
        [
         "Aruba",
         "GQ Magazine",
         874000
        ],
        [
         "Central African Republic",
         "PureWow",
         868000
        ],
        [
         "Argentina",
         "Next Luxury",
         800000
        ],
        [
         "Pitcairn Islands",
         "Marla Meridith",
         671000
        ],
        [
         "Korea",
         "Latest Hairstyles",
         627000
        ],
        [
         "Burundi",
         "Macho Moda",
         620000
        ],
        [
         "Cambodia",
         "Blusher",
         583000
        ],
        [
         "Maldives",
         "Parents",
         416000
        ],
        [
         "Barbados",
         "The Creativity Exchange",
         410000
        ],
        [
         "Czech Republic",
         "Tatertots and Jello .com",
         398000
        ],
        [
         "Greece",
         "Thirty Handmade Days",
         397000
        ],
        [
         "Cuba",
         "Listotic - Easy Ideas | Fun DIY Projects | Easy Recipes | Lists",
         307000
        ],
        [
         "Brunei Darussalam",
         "Kids Craft Room",
         277000
        ],
        [
         "Niue",
         "Michelle | Brown Eyed Baker",
         271000
        ],
        [
         "Canada",
         "Giorgenti New York",
         258000
        ],
        [
         "British Virgin Islands",
         "Kitchen Fun With My 3 Sons",
         245000
        ],
        [
         "Bolivia",
         "Kimberly West (a girl and a glue gun)",
         243000
        ],
        [
         "French Guiana",
         "Sweet Red Poppy Free Sewing Patterns, Cut Files & Craft Tutorials",
         241000
        ],
        [
         "Monaco",
         "Artists Network",
         227000
        ],
        [
         "El Salvador",
         "Power of Positivity",
         221000
        ],
        [
         "Guam",
         "Amanda Green Bottoms @ kevinandamanda.com",
         219000
        ],
        [
         "Georgia",
         "Susie Allison | Busy Toddler",
         203000
        ],
        [
         "Comoros",
         "Becky Mansfield - YourModernFamily ",
         196000
        ],
        [
         "Cote d'Ivoire",
         "The Crafting Chicks",
         192000
        ],
        [
         "Latvia",
         "Royal Fashionist",
         188000
        ],
        [
         "Cape Verde",
         "Sand and Sisal",
         178000
        ],
        [
         "Saint Kitts and Nevis",
         "vintagetopia",
         171000
        ],
        [
         "Namibia",
         "Snappy Gourmet",
         168000
        ],
        [
         "India",
         "Happiness is Homemade | Crafts, Printables, Party Ideas, & More!",
         167000
        ],
        [
         "Austria",
         "Totschooling | Toddler & Preschool Printable Activities",
         161000
        ],
        [
         "Libyan Arab Jamahiriya",
         "miss coco",
         157000
        ],
        [
         "Colombia",
         "Jordan Page | Fun Cheap or Free",
         152000
        ],
        [
         "Indonesia",
         "Lifehacker",
         141000
        ],
        [
         "Netherlands",
         "PUFIK Interiors & Inspirations",
         136000
        ],
        [
         "Croatia",
         "Live Like You Are Rich | Finances, Pregnancy, Recipes & More",
         134000
        ],
        [
         "Djibouti",
         "Katepickle - picklebums - fun ideas for families",
         130000
        ],
        [
         "Mali",
         "Mobile Home Living®",
         122000
        ],
        [
         "Madagascar",
         "MomAdvice",
         112000
        ],
        [
         "Dominican Republic",
         "Wonder Forest",
         104000
        ],
        [
         "Venezuela",
         "My Poppet - A Craft, Travel & Food Blog for Colourful Living",
         100000
        ],
        [
         "Anguilla",
         "Kristen | Lifestyle, Mom Tips & Teacher Stuff Blog",
         92000
        ],
        [
         "Gibraltar",
         "TheSuperBOO!",
         89000
        ],
        [
         "Cameroon",
         "Made to be a Momma",
         85000
        ],
        [
         "Guatemala",
         "Menucha - Moms and Crafters",
         85000
        ],
        [
         "Ecuador",
         "LABONNI",
         84000
        ],
        [
         "Mozambique",
         "Stylin by Aylin",
         83000
        ],
        [
         "Finland",
         "Amee",
         79000
        ],
        [
         "Guinea",
         "Pam from Over the Big Moon",
         79000
        ],
        [
         "Belgium",
         "Happy Toddler Playtime",
         73000
        ],
        [
         "Belize",
         "Clary | IKEA hacks & DIY Project for home",
         67000
        ],
        [
         "Dominica",
         "Monique - Living Life and Learning",
         67000
        ],
        [
         "Tunisia",
         "El blog amarillo",
         66000
        ],
        [
         "Congo",
         "The Cards We Drew",
         64000
        ],
        [
         "Guinea-Bissau",
         "The Inspiration Edit - Best Instant Pot Recipes And Kids Crafts",
         56000
        ],
        [
         "Isle of Man",
         "Abbotts At Home",
         52000
        ],
        [
         "Benin",
         "Smart Cents Mom",
         49000
        ],
        [
         "Ireland",
         "Seeking Lavender Lane",
         49000
        ],
        [
         "Bahrain",
         "R.J. Weiss at The Ways To Wealth | Personal Finance | Debt Payoff",
         46000
        ],
        [
         "Bermuda",
         "Life on Summerhill | Home, Holiday Decor & DIY Website",
         46000
        ],
        [
         "Mauritius",
         "Cool Things- Drawing Ideas , Fashion ,Beautiy and Home Decor",
         46000
        ],
        [
         "Nauru",
         "The Intrepid Guide | Language Learning for Travel",
         45000
        ],
        [
         "Moldova",
         "A Blossoming Life DIY Projects + Recipes +     Natural Living",
         44000
        ],
        [
         "Fiji",
         "Teach Create Motivate",
         41000
        ],
        [
         "French Southern Territories",
         "Salvaged Living",
         40000
        ],
        [
         "Bosnia and Herzegovina",
         "A Wonderful Thought",
         37000
        ],
        [
         "Denmark",
         "A Life Adjacent",
         36000
        ],
        [
         "Luxembourg",
         "Linda Kamp-Around The Kampfire",
         35000
        ],
        [
         "Portugal",
         "Lindsey Blogs",
         29000
        ],
        [
         "Somalia",
         "PutTheKettleOn | Self Care & Personal Growth For a Life You Love",
         27000
        ],
        [
         "Cyprus",
         "Lantern Lane Designs|Home Decor|DIY Projects|DIY Home Decor",
         25000
        ],
        [
         "Mauritania",
         "The Literacy Nest",
         22000
        ],
        [
         "Seychelles",
         "ALL FOR WOMAN",
         21000
        ],
        [
         "Chile",
         "Amber Strong - The Maker’s Map | DIY’s, Crafts & Home Decor",
         19000
        ],
        [
         "Jamaica",
         "Financial Toolkit",
         19000
        ],
        [
         "New Zealand",
         "ZENIDEES",
         19000
        ],
        [
         "Ethiopia",
         "Sarah Wahl | Crestfox",
         17000
        ],
        [
         "Japan",
         "Eyes On Walls",
         17000
        ],
        [
         "French Polynesia",
         "Alexandra Polunin",
         16000
        ],
        [
         "Cayman Islands",
         "Our Escape Clause l Travel in Europe & Beyond",
         15000
        ],
        [
         "Vietnam",
         "Leanne | Midlife Blogger at www.crestingthehill.com.au",
         15000
        ],
        [
         "Malawi",
         "Avenly Lane | Beauty, Fashion & Travel Inspiration",
         14000
        ],
        [
         "Guadeloupe",
         "Mommyhooding",
         13000
        ],
        [
         "Marshall Islands",
         "Dashing Darlin' ",
         13000
        ],
        [
         "Morocco",
         "Two Southern Sweeties | Life After 50 + Second Act Lifestyle",
         13000
        ],
        [
         "Brazil",
         "Budget with Rachel",
         11000
        ],
        [
         "Egypt",
         "Lists For All",
         11000
        ],
        [
         "Faroe Islands",
         "Veterans United Home Loans",
         11000
        ],
        [
         "Slovakia (Slovak Republic)",
         "CollectorCarAds.com",
         11000
        ],
        [
         "Equatorial Guinea",
         "Whisper Wanderlust * Travel Blog",
         10000
        ],
        [
         "Germany",
         "Middle Class Dad",
         10000
        ],
        [
         "Liechtenstein",
         "Sophie's Way",
         10000
        ],
        [
         "Lithuania",
         "The Bespoke ELA Classroom",
         10000
        ],
        [
         "Grenada",
         "Young Adult Money",
         9000
        ],
        [
         "Nicaragua",
         "Land Rover USA",
         9000
        ],
        [
         "Romania",
         "Soberbadassery | Your Free Online Guide To Sober Living ",
         9000
        ],
        [
         "Saint Martin",
         "Montgo Farmhouse",
         9000
        ],
        [
         "Turkey",
         "My Little Poppies (Cait Curley, MA/CAGS)",
         9000
        ],
        [
         "France",
         "Hey Pretty Beauty Blog",
         7000
        ],
        [
         "Gabon",
         "Expatolife",
         7000
        ],
        [
         "Macedonia",
         "Mary",
         7000
        ],
        [
         "Netherlands Antilles",
         "Kim Cook-Thirteen Chairs-Slates Mugs And Tees",
         7000
        ],
        [
         "Solomon Islands",
         "Upcyclist",
         7000
        ],
        [
         "Turkmenistan",
         "Dionne ❤️ Home & Life Organized",
         7000
        ],
        [
         "Estonia",
         "Decorator's Warehouse",
         6000
        ],
        [
         "Norfolk Island",
         "Lifestyle DIYW \"Live Life & Do IT Your Way\"",
         6000
        ],
        [
         "Cocos (Keeling) Islands",
         "The World Was Here First",
         5000
        ],
        [
         "Haiti",
         "Pamela Bell English",
         5000
        ],
        [
         "Svalbard & Jan Mayen Islands",
         "CK Travels (Travel Bloggers)",
         5000
        ],
        [
         "Kenya",
         "Laura- Inspire My Play | Play & Learning For Little Kids",
         4000
        ],
        [
         "Montserrat",
         "Taming Little Monsters - Fun Activities for Kids",
         4000
        ],
        [
         "Niger",
         "The Edvocate",
         4000
        ],
        [
         "Togo",
         "debra",
         4000
        ],
        [
         "Bhutan",
         "Kids Crafts & Free Preschool Printables- Sharing Our Experiences",
         3000
        ],
        [
         "Israel",
         "LISA MASLYK / VOICE OVER TALENT /ACTOR",
         3000
        ],
        [
         "Macao",
         "Vanessa Ferran",
         3000
        ],
        [
         "Samoa",
         "Coley Kuyper Art",
         3000
        ],
        [
         "South Africa",
         "Sophie Watters",
         3000
        ],
        [
         "Swaziland",
         "Laidback Trip",
         3000
        ],
        [
         "Hungary",
         "BalsaCircle",
         2000
        ],
        [
         "Sao Tome and Principe",
         "kayyla.april",
         2000
        ],
        [
         "Wallis and Futuna",
         "Organize Ways",
         2000
        ],
        [
         "Panama",
         "Alanna | Periodic Adventures",
         1000
        ],
        [
         "Puerto Rico",
         "Book More Brides",
         1000
        ],
        [
         "Sudan",
         "iElylike ..✿◕‿◕✿ஐ✿◕‿◕✿",
         940
        ],
        [
         "Holy See (Vatican City State)",
         "Mich Cam",
         831
        ],
        [
         "Slovenia",
         "Vsnicholls",
         746
        ],
        [
         "Belarus",
         "Ricky Lee",
         709
        ],
        [
         "Saint Barthelemy",
         "Alexandria Franko",
         517
        ],
        [
         "Paraguay",
         "Michal McCamman",
         392
        ],
        [
         "Singapore",
         "Lionel Leon",
         387
        ],
        [
         "New Caledonia",
         "Au'vey Smith",
         377
        ],
        [
         "Saint Helena",
         "The Pamper Place",
         328
        ],
        [
         "Saint Pierre and Miquelon",
         "Ebbert Barnes",
         323
        ],
        [
         "Greenland",
         "Haiti Babi | Artisan Baby Blankets and Hats",
         270
        ],
        [
         "Poland",
         "BEIMER",
         265
        ],
        [
         "Trinidad and Tobago",
         "Syndi Mulcahy",
         254
        ],
        [
         "United States Virgin Islands",
         "Amanda Harris",
         240
        ],
        [
         "Saudi Arabia",
         "Edwin | Cash The Checks | Find Your Perfect Side Hustle",
         223
        ],
        [
         "Sweden",
         "I. Sánchez",
         214
        ],
        [
         "Ghana",
         "jennifer",
         191
        ],
        [
         "Norway",
         "DailyDose",
         189
        ],
        [
         "Nigeria",
         "eyelashdance",
         164
        ],
        [
         "Iran",
         "Mandy Yancer",
         150
        ],
        [
         "Papua New Guinea",
         "AnnaLee Kick",
         112
        ],
        [
         "Philippines",
         "Life of Neon | Custom Neon Light Signs | Home Decor Wall Art",
         111
        ],
        [
         "Serbia",
         "VEM Designs",
         78
        ],
        [
         "Tuvalu",
         "Addymae Rodi",
         41
        ],
        [
         "Tanzania",
         "mj",
         26
        ],
        [
         "Peru",
         "Clar",
         21
        ],
        [
         "Malta",
         "Luis Alberto Martinez",
         13
        ],
        [
         "Saint Vincent and the Grenadines",
         "Home Etc",
         13
        ],
        [
         "Kiribati",
         "𝒍𝒖𝒄𝒉𝒊𝒊 ♡︎ ",
         8
        ],
        [
         "Tonga",
         "Grecia Perales",
         0
        ]
       ],
       "datasetInfos": [],
       "dbfsResultPath": null,
       "isJsonSchema": true,
       "metadata": {
        "dataframeName": "_sqldf",
        "executionCount": 11
       },
       "overflow": false,
       "plotOptions": {
        "customPlotOptions": {},
        "displayType": "table",
        "pivotAggregation": null,
        "pivotColumns": null,
        "xColumns": null,
        "yColumns": null
       },
       "removedWidgets": [],
       "schema": [
        {
         "metadata": "{}",
         "name": "country",
         "type": "\"string\""
        },
        {
         "metadata": "{}",
         "name": "poster_name",
         "type": "\"string\""
        },
        {
         "metadata": "{}",
         "name": "follower_count",
         "type": "\"integer\""
        }
       ],
       "type": "table"
      }
     },
     "output_type": "display_data"
    }
   ],
   "source": [
    "%sql\n",
    "-- step one\n",
    "WITH ranked_followers AS (\n",
    "    SELECT\n",
    "        g.country,\n",
    "        p.poster_name,\n",
    "        p.follower_count,\n",
    "        ROW_NUMBER() OVER (PARTITION BY g.country ORDER BY p.follower_count DESC) AS rank\n",
    "    FROM\n",
    "        geo_table g\n",
    "    JOIN \n",
    "        pin_table p ON g.ind = p.ind\n",
    ")\n",
    "SELECT\n",
    "    country,\n",
    "    poster_name,\n",
    "    follower_count\n",
    "FROM \n",
    "    ranked_followers\n",
    "WHERE \n",
    "    rank = 1\n",
    "ORDER BY\n",
    "    follower_count DESC\n",
    "\n",
    "\n"
   ]
  },
  {
   "cell_type": "code",
   "execution_count": 0,
   "metadata": {
    "application/vnd.databricks.v1+cell": {
     "cellMetadata": {
      "byteLimit": 2048000,
      "implicitDf": true,
      "rowLimit": 10000
     },
     "inputWidgets": {},
     "nuid": "92ee8ee7-02ba-4504-9f0d-4ab828a89b37",
     "showTitle": false,
     "tableResultSettingsMap": {},
     "title": ""
    }
   },
   "outputs": [
    {
     "data": {
      "text/html": [
       "<style scoped>\n",
       "  .table-result-container {\n",
       "    max-height: 300px;\n",
       "    overflow: auto;\n",
       "  }\n",
       "  table, th, td {\n",
       "    border: 1px solid black;\n",
       "    border-collapse: collapse;\n",
       "  }\n",
       "  th, td {\n",
       "    padding: 5px;\n",
       "  }\n",
       "  th {\n",
       "    text-align: left;\n",
       "  }\n",
       "</style><div class='table-result-container'><table class='table-result'><thead style='background-color: white'><tr><th>country</th><th>follower_count</th></tr></thead><tbody><tr><td>American Samoa</td><td>8000000</td></tr></tbody></table></div>"
      ]
     },
     "metadata": {
      "application/vnd.databricks.v1+output": {
       "addedWidgets": {},
       "aggData": [],
       "aggError": "",
       "aggOverflow": false,
       "aggSchema": [],
       "aggSeriesLimitReached": false,
       "aggType": "",
       "arguments": {},
       "columnCustomDisplayInfos": {},
       "data": [
        [
         "American Samoa",
         8000000
        ]
       ],
       "datasetInfos": [],
       "dbfsResultPath": null,
       "isJsonSchema": true,
       "metadata": {
        "dataframeName": "_sqldf",
        "executionCount": 12
       },
       "overflow": false,
       "plotOptions": {
        "customPlotOptions": {},
        "displayType": "table",
        "pivotAggregation": null,
        "pivotColumns": null,
        "xColumns": null,
        "yColumns": null
       },
       "removedWidgets": [],
       "schema": [
        {
         "metadata": "{}",
         "name": "country",
         "type": "\"string\""
        },
        {
         "metadata": "{}",
         "name": "follower_count",
         "type": "\"integer\""
        }
       ],
       "type": "table"
      }
     },
     "output_type": "display_data"
    }
   ],
   "source": [
    "%sql\n",
    "-- step two\n",
    "\n",
    "SELECT\n",
    "    g.country,\n",
    "    p.follower_count\n",
    "FROM\n",
    "    geo_table g\n",
    "JOIN\n",
    "    pin_table p ON g.ind = p.ind\n",
    "ORDER BY  \n",
    "    p.follower_count DESC\n",
    "LIMIT \n",
    "    1\n"
   ]
  },
  {
   "cell_type": "code",
   "execution_count": 0,
   "metadata": {
    "application/vnd.databricks.v1+cell": {
     "cellMetadata": {
      "byteLimit": 2048000,
      "implicitDf": true,
      "rowLimit": 10000
     },
     "inputWidgets": {},
     "nuid": "d3ac593a-d4e5-4028-822b-5fb530f4d6d9",
     "showTitle": false,
     "tableResultSettingsMap": {},
     "title": ""
    }
   },
   "outputs": [
    {
     "data": {
      "text/html": [
       "<style scoped>\n",
       "  .table-result-container {\n",
       "    max-height: 300px;\n",
       "    overflow: auto;\n",
       "  }\n",
       "  table, th, td {\n",
       "    border: 1px solid black;\n",
       "    border-collapse: collapse;\n",
       "  }\n",
       "  th, td {\n",
       "    padding: 5px;\n",
       "  }\n",
       "  th {\n",
       "    text-align: left;\n",
       "  }\n",
       "</style><div class='table-result-container'><table class='table-result'><thead style='background-color: white'><tr><th>country</th><th>follower_count</th></tr></thead><tbody><tr><td>American Samoa</td><td>8000000</td></tr></tbody></table></div>"
      ]
     },
     "metadata": {
      "application/vnd.databricks.v1+output": {
       "addedWidgets": {},
       "aggData": [],
       "aggError": "",
       "aggOverflow": false,
       "aggSchema": [],
       "aggSeriesLimitReached": false,
       "aggType": "",
       "arguments": {},
       "columnCustomDisplayInfos": {},
       "data": [
        [
         "American Samoa",
         8000000
        ]
       ],
       "datasetInfos": [],
       "dbfsResultPath": null,
       "isJsonSchema": true,
       "metadata": {
        "dataframeName": "_sqldf",
        "executionCount": 13
       },
       "overflow": false,
       "plotOptions": {
        "customPlotOptions": {},
        "displayType": "table",
        "pivotAggregation": null,
        "pivotColumns": null,
        "xColumns": null,
        "yColumns": null
       },
       "removedWidgets": [],
       "schema": [
        {
         "metadata": "{}",
         "name": "country",
         "type": "\"string\""
        },
        {
         "metadata": "{}",
         "name": "follower_count",
         "type": "\"integer\""
        }
       ],
       "type": "table"
      }
     },
     "output_type": "display_data"
    }
   ],
   "source": [
    "%sql\n",
    "-- step two alternative method\n",
    "WITH ranked_followers AS (\n",
    "    SELECT\n",
    "        g.country,\n",
    "        p.poster_name,\n",
    "        p.follower_count,\n",
    "        ROW_NUMBER() OVER (PARTITION BY g.country ORDER BY p.follower_count DESC) AS rank\n",
    "    FROM\n",
    "        geo_table g\n",
    "    JOIN \n",
    "        pin_table p ON g.ind = p.ind\n",
    ")\n",
    "SELECT\n",
    "    country,\n",
    "    follower_count\n",
    "FROM \n",
    "    ranked_followers\n",
    "WHERE \n",
    "    rank = 1\n",
    "ORDER BY\n",
    "    follower_count DESC\n",
    "LIMIT\n",
    "    1"
   ]
  },
  {
   "cell_type": "code",
   "execution_count": 0,
   "metadata": {
    "application/vnd.databricks.v1+cell": {
     "cellMetadata": {
      "byteLimit": 2048000,
      "implicitDf": true,
      "rowLimit": 10000
     },
     "inputWidgets": {},
     "nuid": "10998602-3009-422c-ac8b-9d5deffd389d",
     "showTitle": false,
     "tableResultSettingsMap": {},
     "title": ""
    }
   },
   "outputs": [
    {
     "data": {
      "text/html": [
       "<style scoped>\n",
       "  .table-result-container {\n",
       "    max-height: 300px;\n",
       "    overflow: auto;\n",
       "  }\n",
       "  table, th, td {\n",
       "    border: 1px solid black;\n",
       "    border-collapse: collapse;\n",
       "  }\n",
       "  th, td {\n",
       "    padding: 5px;\n",
       "  }\n",
       "  th {\n",
       "    text-align: left;\n",
       "  }\n",
       "</style><div class='table-result-container'><table class='table-result'><thead style='background-color: white'><tr><th>age_group</th><th>category</th><th>category_count</th></tr></thead><tbody><tr><td>null</td><td>christmas</td><td>2</td></tr><tr><td>18-24</td><td>tattoos</td><td>27</td></tr><tr><td>25-35</td><td>art</td><td>14</td></tr><tr><td>36-49</td><td>quotes</td><td>12</td></tr><tr><td>50+</td><td>beauty</td><td>5</td></tr></tbody></table></div>"
      ]
     },
     "metadata": {
      "application/vnd.databricks.v1+output": {
       "addedWidgets": {},
       "aggData": [],
       "aggError": "",
       "aggOverflow": false,
       "aggSchema": [],
       "aggSeriesLimitReached": false,
       "aggType": "",
       "arguments": {},
       "columnCustomDisplayInfos": {},
       "data": [
        [
         null,
         "christmas",
         2
        ],
        [
         "18-24",
         "tattoos",
         27
        ],
        [
         "25-35",
         "art",
         14
        ],
        [
         "36-49",
         "quotes",
         12
        ],
        [
         "50+",
         "beauty",
         5
        ]
       ],
       "datasetInfos": [],
       "dbfsResultPath": null,
       "isJsonSchema": true,
       "metadata": {
        "dataframeName": "_sqldf",
        "executionCount": 17
       },
       "overflow": false,
       "plotOptions": {
        "customPlotOptions": {},
        "displayType": "table",
        "pivotAggregation": null,
        "pivotColumns": null,
        "xColumns": null,
        "yColumns": null
       },
       "removedWidgets": [],
       "schema": [
        {
         "metadata": "{}",
         "name": "age_group",
         "type": "\"string\""
        },
        {
         "metadata": "{}",
         "name": "category",
         "type": "\"string\""
        },
        {
         "metadata": "{}",
         "name": "category_count",
         "type": "\"long\""
        }
       ],
       "type": "table"
      }
     },
     "output_type": "display_data"
    }
   ],
   "source": [
    "%sql\n",
    "WITH age_ranges AS (\n",
    "    SELECT\n",
    "        CASE\n",
    "            WHEN age >= 18 AND age <= 24 THEN '18-24'\n",
    "            WHEN age >= 25 AND age <= 35 THEN '25-35'\n",
    "            WHEN age >= 36 AND age <= 49 THEN '36-49'\n",
    "            WHEN age > 50 THEN '50+'\n",
    "        END AS age_group,\n",
    "        p.category\n",
    "    FROM user_table u\n",
    "    JOIN pin_table p ON u.ind = p.ind\n",
    "),\n",
    "category_counts AS (\n",
    "    SELECT\n",
    "        age_group,\n",
    "        category,\n",
    "        COUNT(*) AS category_count\n",
    "    FROM age_ranges\n",
    "    GROUP BY age_group, category\n",
    "),\n",
    "ranked_categories AS (\n",
    "    SELECT\n",
    "        age_group,\n",
    "        category,\n",
    "        category_count,\n",
    "        ROW_NUMBER() OVER (PARTITION BY age_group ORDER BY category_count DESC) AS rank\n",
    "    FROM category_counts\n",
    ")\n",
    "SELECT\n",
    "    age_group,\n",
    "    category,\n",
    "    category_count\n",
    "FROM\n",
    "    ranked_categories\n",
    "WHERE\n",
    "    rank = 1\n",
    "ORDER BY\n",
    "    age_group;\n"
   ]
  },
  {
   "cell_type": "code",
   "execution_count": 0,
   "metadata": {
    "application/vnd.databricks.v1+cell": {
     "cellMetadata": {
      "byteLimit": 2048000,
      "implicitDf": true,
      "rowLimit": 10000
     },
     "inputWidgets": {},
     "nuid": "fc39bfa2-54f5-4d01-b701-21b159054185",
     "showTitle": false,
     "tableResultSettingsMap": {},
     "title": ""
    }
   },
   "outputs": [
    {
     "data": {
      "text/html": [
       "<style scoped>\n",
       "  .table-result-container {\n",
       "    max-height: 300px;\n",
       "    overflow: auto;\n",
       "  }\n",
       "  table, th, td {\n",
       "    border: 1px solid black;\n",
       "    border-collapse: collapse;\n",
       "  }\n",
       "  th, td {\n",
       "    padding: 5px;\n",
       "  }\n",
       "  th {\n",
       "    text-align: left;\n",
       "  }\n",
       "</style><div class='table-result-container'><table class='table-result'><thead style='background-color: white'><tr><th>age_group</th><th>median_follower_count</th></tr></thead><tbody><tr><td>null</td><td>3500.0</td></tr><tr><td>18-24</td><td>108000.0</td></tr><tr><td>25-35</td><td>27000.0</td></tr><tr><td>36-49</td><td>6000.0</td></tr><tr><td>50+</td><td>1000.0</td></tr></tbody></table></div>"
      ]
     },
     "metadata": {
      "application/vnd.databricks.v1+output": {
       "addedWidgets": {},
       "aggData": [],
       "aggError": "",
       "aggOverflow": false,
       "aggSchema": [],
       "aggSeriesLimitReached": false,
       "aggType": "",
       "arguments": {},
       "columnCustomDisplayInfos": {},
       "data": [
        [
         null,
         3500
        ],
        [
         "18-24",
         108000
        ],
        [
         "25-35",
         27000
        ],
        [
         "36-49",
         6000
        ],
        [
         "50+",
         1000
        ]
       ],
       "datasetInfos": [],
       "dbfsResultPath": null,
       "isJsonSchema": true,
       "metadata": {
        "dataframeName": "_sqldf",
        "executionCount": 18
       },
       "overflow": false,
       "plotOptions": {
        "customPlotOptions": {},
        "displayType": "table",
        "pivotAggregation": null,
        "pivotColumns": null,
        "xColumns": null,
        "yColumns": null
       },
       "removedWidgets": [],
       "schema": [
        {
         "metadata": "{}",
         "name": "age_group",
         "type": "\"string\""
        },
        {
         "metadata": "{}",
         "name": "median_follower_count",
         "type": "\"double\""
        }
       ],
       "type": "table"
      }
     },
     "output_type": "display_data"
    }
   ],
   "source": [
    "%sql\n",
    "WITH age_ranges AS (\n",
    "    SELECT\n",
    "        CASE\n",
    "            WHEN age >= 18 AND age <= 24 THEN '18-24'\n",
    "            WHEN age >= 25 AND age <= 35 THEN '25-35'\n",
    "            WHEN age >= 36 AND age <= 49 THEN '36-49'\n",
    "            WHEN age > 50 THEN '50+'\n",
    "        END AS age_group,\n",
    "        p.follower_count\n",
    "    FROM user_table u\n",
    "    JOIN pin_table p ON u.ind = p.ind\n",
    "),\n",
    "ranked_follower_count AS (\n",
    "    SELECT\n",
    "        age_group,\n",
    "        follower_count,\n",
    "        ROW_NUMBER() OVER (PARTITION BY age_group ORDER BY follower_count) AS row_num,\n",
    "        COUNT(*) OVER (PARTITION BY age_group) AS total_rows\n",
    "    FROM age_ranges\n",
    "),\n",
    "median_follower_calculator AS (\n",
    "    SELECT\n",
    "        age_group,\n",
    "        CASE\n",
    "            WHEN total_rows % 2 = 1 THEN -- Odd number of rows\n",
    "                MAX(CASE WHEN row_num = (total_rows + 1) / 2 THEN follower_count END)\n",
    "            ELSE -- Even number of rows\n",
    "                AVG(CASE WHEN row_num IN (total_rows / 2, total_rows / 2 + 1) THEN follower_count END)\n",
    "        END AS median_follower_count\n",
    "    FROM\n",
    "        ranked_follower_count\n",
    "    GROUP BY\n",
    "        age_group,\n",
    "        total_rows\n",
    ")\n",
    "SELECT\n",
    "    age_group,\n",
    "    median_follower_count\n",
    "FROM\n",
    "    median_follower_calculator\n",
    "ORDER BY\n",
    "    age_group;  \n"
   ]
  },
  {
   "cell_type": "code",
   "execution_count": 0,
   "metadata": {
    "application/vnd.databricks.v1+cell": {
     "cellMetadata": {
      "byteLimit": 2048000,
      "implicitDf": true,
      "rowLimit": 10000
     },
     "inputWidgets": {},
     "nuid": "1241e1a6-6041-4c26-a6e2-26e919f13412",
     "showTitle": false,
     "tableResultSettingsMap": {},
     "title": ""
    }
   },
   "outputs": [
    {
     "data": {
      "text/html": [
       "<style scoped>\n",
       "  .table-result-container {\n",
       "    max-height: 300px;\n",
       "    overflow: auto;\n",
       "  }\n",
       "  table, th, td {\n",
       "    border: 1px solid black;\n",
       "    border-collapse: collapse;\n",
       "  }\n",
       "  th, td {\n",
       "    padding: 5px;\n",
       "  }\n",
       "  th {\n",
       "    text-align: left;\n",
       "  }\n",
       "</style><div class='table-result-container'><table class='table-result'><thead style='background-color: white'><tr><th>post_year</th><th>number_users_joined</th></tr></thead><tbody><tr><td>2015</td><td>184</td></tr><tr><td>2016</td><td>235</td></tr><tr><td>2017</td><td>81</td></tr></tbody></table></div>"
      ]
     },
     "metadata": {
      "application/vnd.databricks.v1+output": {
       "addedWidgets": {},
       "aggData": [],
       "aggError": "",
       "aggOverflow": false,
       "aggSchema": [],
       "aggSeriesLimitReached": false,
       "aggType": "",
       "arguments": {},
       "columnCustomDisplayInfos": {},
       "data": [
        [
         2015,
         184
        ],
        [
         2016,
         235
        ],
        [
         2017,
         81
        ]
       ],
       "datasetInfos": [],
       "dbfsResultPath": null,
       "isJsonSchema": true,
       "metadata": {
        "dataframeName": "_sqldf",
        "executionCount": 19
       },
       "overflow": false,
       "plotOptions": {
        "customPlotOptions": {},
        "displayType": "table",
        "pivotAggregation": null,
        "pivotColumns": null,
        "xColumns": null,
        "yColumns": null
       },
       "removedWidgets": [],
       "schema": [
        {
         "metadata": "{}",
         "name": "post_year",
         "type": "\"integer\""
        },
        {
         "metadata": "{}",
         "name": "number_users_joined",
         "type": "\"long\""
        }
       ],
       "type": "table"
      }
     },
     "output_type": "display_data"
    }
   ],
   "source": [
    "%sql\n",
    "\n",
    "SELECT\n",
    "    YEAR(date_joined) AS post_year,\n",
    "    COUNT(YEAR(date_joined)) AS number_users_joined\n",
    "FROM\n",
    "    user_table \n",
    "GROUP BY\n",
    "    post_year"
   ]
  },
  {
   "cell_type": "code",
   "execution_count": 0,
   "metadata": {
    "application/vnd.databricks.v1+cell": {
     "cellMetadata": {
      "byteLimit": 2048000,
      "implicitDf": true,
      "rowLimit": 10000
     },
     "inputWidgets": {},
     "nuid": "82273a99-d002-4d6e-a7c7-3cd7aba106c8",
     "showTitle": false,
     "tableResultSettingsMap": {},
     "title": ""
    }
   },
   "outputs": [
    {
     "data": {
      "text/html": [
       "<style scoped>\n",
       "  .table-result-container {\n",
       "    max-height: 300px;\n",
       "    overflow: auto;\n",
       "  }\n",
       "  table, th, td {\n",
       "    border: 1px solid black;\n",
       "    border-collapse: collapse;\n",
       "  }\n",
       "  th, td {\n",
       "    padding: 5px;\n",
       "  }\n",
       "  th {\n",
       "    text-align: left;\n",
       "  }\n",
       "</style><div class='table-result-container'><table class='table-result'><thead style='background-color: white'><tr><th>post_year</th><th>median_follower_count</th></tr></thead><tbody><tr><td>2015</td><td>94500.0</td></tr><tr><td>2016</td><td>19000.0</td></tr><tr><td>2017</td><td>3000.0</td></tr></tbody></table></div>"
      ]
     },
     "metadata": {
      "application/vnd.databricks.v1+output": {
       "addedWidgets": {},
       "aggData": [],
       "aggError": "",
       "aggOverflow": false,
       "aggSchema": [],
       "aggSeriesLimitReached": false,
       "aggType": "",
       "arguments": {},
       "columnCustomDisplayInfos": {},
       "data": [
        [
         2015,
         94500
        ],
        [
         2016,
         19000
        ],
        [
         2017,
         3000
        ]
       ],
       "datasetInfos": [],
       "dbfsResultPath": null,
       "isJsonSchema": true,
       "metadata": {
        "dataframeName": "_sqldf",
        "executionCount": 20
       },
       "overflow": false,
       "plotOptions": {
        "customPlotOptions": {},
        "displayType": "table",
        "pivotAggregation": null,
        "pivotColumns": null,
        "xColumns": null,
        "yColumns": null
       },
       "removedWidgets": [],
       "schema": [
        {
         "metadata": "{}",
         "name": "post_year",
         "type": "\"integer\""
        },
        {
         "metadata": "{}",
         "name": "median_follower_count",
         "type": "\"double\""
        }
       ],
       "type": "table"
      }
     },
     "output_type": "display_data"
    }
   ],
   "source": [
    "%sql\n",
    "\n",
    "WITH new_users AS (\n",
    "    SELECT\n",
    "        YEAR(date_joined) AS post_year,\n",
    "        COUNT(YEAR(date_joined)) AS number_users_joined,\n",
    "        ind\n",
    "    FROM\n",
    "        user_table \n",
    "    GROUP BY\n",
    "        post_year,\n",
    "        ind\n",
    "), ranked_follower_count AS (\n",
    "    SELECT\n",
    "        n.post_year,\n",
    "        p.follower_count,\n",
    "        ROW_NUMBER() OVER (PARTITION BY n.post_year ORDER BY p.follower_count) AS row_num,\n",
    "        COUNT(*) OVER (PARTITION BY n.post_year) AS total_rows\n",
    "    FROM \n",
    "        new_users n\n",
    "    JOIN\n",
    "        pin_table p ON n.ind = p.ind\n",
    "), median_follower_calculator AS (\n",
    "    SELECT\n",
    "        post_year,\n",
    "        CASE\n",
    "            WHEN total_rows % 2 = 1 THEN -- Odd number of rows\n",
    "                MAX(CASE WHEN row_num = (total_rows + 1) / 2 THEN follower_count END)\n",
    "            ELSE -- Even number of rows\n",
    "                AVG(CASE WHEN row_num IN (total_rows / 2, total_rows / 2 + 1) THEN follower_count END)\n",
    "        END AS median_follower_count\n",
    "    FROM\n",
    "        ranked_follower_count\n",
    "    GROUP BY\n",
    "        post_year,\n",
    "        total_rows\n",
    ")\n",
    "SELECT\n",
    "    post_year,\n",
    "    median_follower_count\n",
    "FROM\n",
    "    median_follower_calculator\n",
    "\n"
   ]
  },
  {
   "cell_type": "code",
   "execution_count": 0,
   "metadata": {
    "application/vnd.databricks.v1+cell": {
     "cellMetadata": {
      "byteLimit": 2048000,
      "implicitDf": true,
      "rowLimit": 10000
     },
     "inputWidgets": {},
     "nuid": "9482ee3c-66f3-4b6f-89e3-92230e437779",
     "showTitle": false,
     "tableResultSettingsMap": {},
     "title": ""
    }
   },
   "outputs": [
    {
     "data": {
      "text/html": [
       "<style scoped>\n",
       "  .table-result-container {\n",
       "    max-height: 300px;\n",
       "    overflow: auto;\n",
       "  }\n",
       "  table, th, td {\n",
       "    border: 1px solid black;\n",
       "    border-collapse: collapse;\n",
       "  }\n",
       "  th, td {\n",
       "    padding: 5px;\n",
       "  }\n",
       "  th {\n",
       "    text-align: left;\n",
       "  }\n",
       "</style><div class='table-result-container'><table class='table-result'><thead style='background-color: white'><tr><th>age_group</th><th>post_year</th><th>median_follower_count</th></tr></thead><tbody><tr><td>null</td><td>2015</td><td>5500.0</td></tr><tr><td>18-24</td><td>2015</td><td>292000.0</td></tr><tr><td>25-35</td><td>2015</td><td>42000.0</td></tr><tr><td>36-49</td><td>2015</td><td>23000.0</td></tr><tr><td>50+</td><td>2015</td><td>14000.0</td></tr><tr><td>null</td><td>2016</td><td>630.0</td></tr><tr><td>18-24</td><td>2016</td><td>46000.0</td></tr><tr><td>25-35</td><td>2016</td><td>27000.0</td></tr><tr><td>36-49</td><td>2016</td><td>7000.0</td></tr><tr><td>50+</td><td>2016</td><td>1000.0</td></tr><tr><td>null</td><td>2017</td><td>3000.0</td></tr><tr><td>18-24</td><td>2017</td><td>16000.0</td></tr><tr><td>25-35</td><td>2017</td><td>3500.0</td></tr><tr><td>36-49</td><td>2017</td><td>3000.0</td></tr><tr><td>50+</td><td>2017</td><td>758.5</td></tr></tbody></table></div>"
      ]
     },
     "metadata": {
      "application/vnd.databricks.v1+output": {
       "addedWidgets": {},
       "aggData": [],
       "aggError": "",
       "aggOverflow": false,
       "aggSchema": [],
       "aggSeriesLimitReached": false,
       "aggType": "",
       "arguments": {},
       "columnCustomDisplayInfos": {},
       "data": [
        [
         null,
         2015,
         5500
        ],
        [
         "18-24",
         2015,
         292000
        ],
        [
         "25-35",
         2015,
         42000
        ],
        [
         "36-49",
         2015,
         23000
        ],
        [
         "50+",
         2015,
         14000
        ],
        [
         null,
         2016,
         630
        ],
        [
         "18-24",
         2016,
         46000
        ],
        [
         "25-35",
         2016,
         27000
        ],
        [
         "36-49",
         2016,
         7000
        ],
        [
         "50+",
         2016,
         1000
        ],
        [
         null,
         2017,
         3000
        ],
        [
         "18-24",
         2017,
         16000
        ],
        [
         "25-35",
         2017,
         3500
        ],
        [
         "36-49",
         2017,
         3000
        ],
        [
         "50+",
         2017,
         758.5
        ]
       ],
       "datasetInfos": [],
       "dbfsResultPath": null,
       "isJsonSchema": true,
       "metadata": {
        "dataframeName": "_sqldf",
        "executionCount": 22
       },
       "overflow": false,
       "plotOptions": {
        "customPlotOptions": {},
        "displayType": "table",
        "pivotAggregation": null,
        "pivotColumns": null,
        "xColumns": null,
        "yColumns": null
       },
       "removedWidgets": [],
       "schema": [
        {
         "metadata": "{}",
         "name": "age_group",
         "type": "\"string\""
        },
        {
         "metadata": "{}",
         "name": "post_year",
         "type": "\"integer\""
        },
        {
         "metadata": "{}",
         "name": "median_follower_count",
         "type": "\"double\""
        }
       ],
       "type": "table"
      }
     },
     "output_type": "display_data"
    }
   ],
   "source": [
    "%sql\n",
    "WITH new_users AS (\n",
    "    SELECT\n",
    "        YEAR(date_joined) AS post_year,\n",
    "        ind,\n",
    "        age\n",
    "    FROM\n",
    "        user_table\n",
    "), \n",
    "age_ranges AS (\n",
    "    SELECT\n",
    "        CASE\n",
    "            WHEN age >= 18 AND age <= 24 THEN '18-24'\n",
    "            WHEN age >= 25 AND age <= 35 THEN '25-35'\n",
    "            WHEN age >= 36 AND age <= 49 THEN '36-49'\n",
    "            WHEN age > 50 THEN '50+'\n",
    "        END AS age_group,\n",
    "        p.follower_count,\n",
    "        n.post_year\n",
    "    FROM \n",
    "        new_users n\n",
    "    JOIN \n",
    "        pin_table p ON n.ind = p.ind\n",
    "),\n",
    "ranked_follower_count AS (\n",
    "    SELECT\n",
    "        age_group,\n",
    "        follower_count,\n",
    "        ROW_NUMBER() OVER (PARTITION BY post_year, age_group ORDER BY follower_count) AS row_num,\n",
    "        COUNT(*) OVER (PARTITION BY post_year, age_group) AS total_rows,\n",
    "        post_year\n",
    "    FROM \n",
    "        age_ranges\n",
    "),\n",
    "median_follower_calculator AS (\n",
    "    SELECT\n",
    "        post_year,\n",
    "        age_group,\n",
    "        CASE\n",
    "            WHEN total_rows % 2 = 1 THEN -- Odd number of rows\n",
    "                MAX(CASE WHEN row_num = (total_rows + 1) / 2 THEN follower_count END)\n",
    "            ELSE -- Even number of rows\n",
    "                AVG(CASE WHEN row_num IN (total_rows / 2, total_rows / 2 + 1) THEN follower_count END)\n",
    "        END AS median_follower_count\n",
    "    FROM \n",
    "        ranked_follower_count\n",
    "    GROUP BY \n",
    "        post_year,\n",
    "        age_group,\n",
    "        total_rows\n",
    ")\n",
    "SELECT\n",
    "    age_group,\n",
    "    post_year,\n",
    "    median_follower_count\n",
    "FROM \n",
    "    median_follower_calculator\n",
    "ORDER BY \n",
    "    post_year, \n",
    "    age_group;\n"
   ]
  }
 ],
 "metadata": {
  "application/vnd.databricks.v1+notebook": {
   "computePreferences": null,
   "dashboards": [],
   "environmentMetadata": {
    "base_environment": "",
    "client": "1"
   },
   "language": "python",
   "notebookMetadata": {
    "mostRecentlyExecutedCommandWithImplicitDF": {
     "commandId": 726246248899948,
     "dataframes": [
      "_sqldf"
     ]
    },
    "pythonIndentUnit": 4
   },
   "notebookName": "pinterest_project_databricks",
   "widgets": {}
  },
  "language_info": {
   "name": "python"
  }
 },
 "nbformat": 4,
 "nbformat_minor": 0
}
