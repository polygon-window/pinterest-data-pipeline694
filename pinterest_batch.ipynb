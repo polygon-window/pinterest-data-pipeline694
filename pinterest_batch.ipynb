{
 "cells": [
  {
   "cell_type": "code",
   "execution_count": 0,
   "metadata": {
    "application/vnd.databricks.v1+cell": {
     "cellMetadata": {
      "byteLimit": 2048000,
      "rowLimit": 10000
     },
     "inputWidgets": {},
     "nuid": "74eccd36-3073-4c74-b151-8d6cb7c39946",
     "showTitle": false,
     "tableResultSettingsMap": {},
     "title": ""
    }
   },
   "outputs": [],
   "source": [
    "from pyspark.sql.functions import array, to_timestamp, concat, lit, regexp_replace, col, when\n",
    "\n",
    "\n",
    "bucket_name = \"user-c1b2415b9314-bucket\"\n",
    "\n",
    "df_geo = spark.read.json(f\"s3a://user-c1b2415b9314-bucket/topics/c1b2415b9314.geo/partition=0/\")\n",
    "\n",
    "df_user = spark.read.json(f\"s3a://user-c1b2415b9314-bucket/topics/c1b2415b9314.user/partition=0/\")\n",
    "\n",
    "df_pin = spark.read.json(f\"s3a://user-c1b2415b9314-bucket/topics/c1b2415b9314.pin/partition=0/\")"
   ]
  },
  {
   "cell_type": "code",
   "execution_count": 0,
   "metadata": {
    "application/vnd.databricks.v1+cell": {
     "cellMetadata": {
      "byteLimit": 2048000,
      "rowLimit": 10000
     },
     "inputWidgets": {},
     "nuid": "3bc581ce-8bcb-4d35-8fa6-369eef646ab9",
     "showTitle": false,
     "tableResultSettingsMap": {
      "0": {
       "filterBlob": "{\"filterGroups\":[],\"syncTimestamp\":1737115702884}",
       "tableResultIndex": 0
      }
     },
     "title": ""
    }
   },
   "outputs": [],
   "source": [
    "# Cleaning df_user\n",
    "# Creating user_name column by concatenating first_name and last_name\n",
    "df_user = df_user.withColumn(\"user_name\", concat(\"first_name\", lit(\" \"), \"last_name\"))\n",
    "# Dropping first_name and last_name columns\n",
    "df_user = df_user.drop(\"first_name\", \"last_name\")\n",
    "# changing the date_joined column to a timestamp type\n",
    "df_user = df_user.withColumn(\"date_joined\", to_timestamp(\"date_joined\"))\n",
    "# Renaming the index column to ind\n",
    "df_user = df_user.withColumnRenamed(\"index\", \"ind\")\n",
    "# Reordering the columns\n",
    "df_user = df_user.select(\"ind\", \"user_name\", \"age\", \"date_joined\")\n",
    "\n",
    "\n",
    "df_user.printSchema()\n"
   ]
  },
  {
   "cell_type": "code",
   "execution_count": 0,
   "metadata": {
    "application/vnd.databricks.v1+cell": {
     "cellMetadata": {
      "byteLimit": 2048000,
      "rowLimit": 10000
     },
     "inputWidgets": {},
     "nuid": "3d8bb4a5-fbb8-49d9-b771-3ce4b43bf1d1",
     "showTitle": false,
     "tableResultSettingsMap": {},
     "title": ""
    }
   },
   "outputs": [],
   "source": [
    "# cleaning df_pin\n",
    "df_pin = df_pin.replace({\"User Info Error\": None})\n",
    "df_pin = df_pin.replace({\"No description available\": None})\n",
    "df_pin = df_pin.replace({\"No description available Story format\": None})\n",
    "df_pin = df_pin.replace({\"N,o, ,T,a,g,s, ,A,v,a,i,l,a,b,l,e\": None})\n",
    "df_pin = df_pin.replace({\"No Title Data Available\": None})\n",
    "df_pin = df_pin.replace({\"Image src error.\": None})\n",
    "# Amending \"save_location\" to show only the filepath\n",
    "df_pin = df_pin.withColumn(\"save_location\", regexp_replace(\"save_location\", \"Local save in \", \"\"))\n",
    "# Replaces the k and M with the appropriate number of zeros and casts the follower_count column to int\n",
    "df_pin = df_pin.withColumn(\n",
    "    \"follower_count\",\n",
    "    when(col(\"follower_count\").endswith(\"k\"), \n",
    "         regexp_replace(col(\"follower_count\"), \"k\", \"\").cast(\"int\") * 1000)\n",
    "    .when(col(\"follower_count\").endswith(\"M\"), \n",
    "         regexp_replace(col(\"follower_count\"), \"M\", \"\").cast(\"int\") * 1000000)\n",
    "    .otherwise(col(\"follower_count\").cast(\"int\"))\n",
    ")\n",
    "# Renamed the index column to ind\n",
    "df_pin = df_pin.withColumnRenamed(\"index\", \"ind\")\n",
    "# Casted these two columns to int since they were originally long numerical type which wasn't neccesary for these smaller numbers (although in a real life situation i imagine it would be better to keep them as long)\n",
    "\n",
    "df_pin = df_pin.withColumn(\"ind\", df_pin[\"ind\"].cast(\"int\"))\n",
    "# Reordering Columns (seems downloaded column is being dropped aswell?!!?!?!?!?!?!?!)\n",
    "df_pin = df_pin.select(\"ind\", \"unique_id\", \"title\", \"description\", \"follower_count\", \"poster_name\", \"tag_list\", \"is_image_or_video\", \"image_src\", \"save_location\", \"category\")\n",
    "\n",
    "df_pin.printSchema()\n",
    "\n"
   ]
  },
  {
   "cell_type": "code",
   "execution_count": 0,
   "metadata": {
    "application/vnd.databricks.v1+cell": {
     "cellMetadata": {
      "byteLimit": 2048000,
      "rowLimit": 10000
     },
     "inputWidgets": {},
     "nuid": "0e5131bd-a92b-4c0d-8a08-857db204994a",
     "showTitle": false,
     "tableResultSettingsMap": {},
     "title": ""
    }
   },
   "outputs": [],
   "source": [
    "# cleaning df_geo\n",
    "\n",
    "# making a coordinates column from longitude and latitude columns using an array\n",
    "df_geo = df_geo.withColumn(\"coordinates\", array(\"latitude\", \"longitude\"))\n",
    "df_geo = df_geo.drop(\"latitude\", \"longitude\")\n",
    "# changing the timestamp column to a timestamp type\n",
    "df_geo = df_geo.withColumn(\"timestamp\", to_timestamp(\"timestamp\"))\n",
    "# Renaming the index column to ind\n",
    "df_geo = df_geo.withColumnRenamed(\"index\", \"ind\")\n",
    "# Reordering the columns\n",
    "df_geo = df_geo.select(\"ind\", \"country\", \"coordinates\", \"timestamp\")\n",
    "\n",
    "\n",
    "\n",
    "\n",
    "df_geo.printSchema()\n"
   ]
  },
  {
   "cell_type": "code",
   "execution_count": 0,
   "metadata": {
    "application/vnd.databricks.v1+cell": {
     "cellMetadata": {
      "byteLimit": 2048000,
      "rowLimit": 10000
     },
     "inputWidgets": {},
     "nuid": "646823e3-0392-4e2b-a006-bbe60e56aa88",
     "showTitle": false,
     "tableResultSettingsMap": {},
     "title": ""
    }
   },
   "outputs": [],
   "source": [
    "# Register as a temporary view\n",
    "df_pin.createOrReplaceTempView(\"pin_table\")\n",
    "df_geo.createOrReplaceTempView(\"geo_table\")\n",
    "df_user.createOrReplaceTempView(\"user_table\")\n"
   ]
  },
  {
   "cell_type": "code",
   "execution_count": 0,
   "metadata": {
    "application/vnd.databricks.v1+cell": {
     "cellMetadata": {
      "byteLimit": 2048000,
      "implicitDf": true,
      "rowLimit": 10000
     },
     "collapsed": true,
     "inputWidgets": {},
     "nuid": "0c52694e-3fc6-499a-8089-ead907d47aa0",
     "showTitle": false,
     "tableResultSettingsMap": {},
     "title": ""
    }
   },
   "outputs": [],
   "source": [
    "%sql\n",
    "WITH ranked_categories AS (\n",
    "    SELECT \n",
    "        g.country,\n",
    "        p.category,\n",
    "        COUNT(p.category) AS category_count,\n",
    "        ROW_NUMBER() OVER (PARTITION BY g.country ORDER BY COUNT(p.category) DESC) AS rank\n",
    "    FROM\n",
    "        geo_table g\n",
    "    JOIN\n",
    "        pin_table p ON g.ind = p.ind\n",
    "    GROUP BY\n",
    "        g.country, p.category\n",
    ")\n",
    "SELECT\n",
    "    country,\n",
    "    category,\n",
    "    category_count\n",
    "FROM\n",
    "    ranked_categories\n",
    "WHERE\n",
    "    rank = 1\n",
    "ORDER BY\n",
    "    country;\n"
   ]
  },
  {
   "cell_type": "code",
   "execution_count": 0,
   "metadata": {
    "application/vnd.databricks.v1+cell": {
     "cellMetadata": {
      "byteLimit": 2048000,
      "implicitDf": true,
      "rowLimit": 10000
     },
     "inputWidgets": {},
     "nuid": "c60e3d16-d86c-4da7-bfcb-1beb1de0b1fe",
     "showTitle": false,
     "tableResultSettingsMap": {},
     "title": ""
    }
   },
   "outputs": [],
   "source": [
    "%sql\n",
    "WITH ranked_categories AS (\n",
    "    SELECT\n",
    "        YEAR(g.timestamp) AS post_year,\n",
    "        p.category,\n",
    "        COUNT(p.category) AS category_count,\n",
    "        ROW_NUMBER() OVER (PARTITION BY YEAR(g.timestamp) ORDER BY COUNT(p.category) DESC) AS rank\n",
    "    FROM  \n",
    "        pin_table p\n",
    "    JOIN\n",
    "        geo_table g ON p.ind = g.ind\n",
    "    WHERE \n",
    "        YEAR(g.timestamp) BETWEEN 2018 AND 2022\n",
    "    GROUP BY\n",
    "        p.category, YEAR(g.timestamp)\n",
    ")\n",
    "SELECT\n",
    "    post_year,\n",
    "    category,\n",
    "    category_count\n",
    "FROM\n",
    "    ranked_categories\n",
    "WHERE\n",
    "    rank = 1\n",
    "ORDER BY\n",
    "    post_year;\n"
   ]
  },
  {
   "cell_type": "code",
   "execution_count": 0,
   "metadata": {
    "application/vnd.databricks.v1+cell": {
     "cellMetadata": {
      "byteLimit": 2048000,
      "implicitDf": true,
      "rowLimit": 10000
     },
     "collapsed": true,
     "inputWidgets": {},
     "nuid": "a0f20d9f-7300-433d-9357-c4b7dec91780",
     "showTitle": false,
     "tableResultSettingsMap": {},
     "title": ""
    }
   },
   "outputs": [],
   "source": [
    "%sql\n",
    "-- step one\n",
    "WITH ranked_followers AS (\n",
    "    SELECT\n",
    "        g.country,\n",
    "        p.poster_name,\n",
    "        p.follower_count,\n",
    "        ROW_NUMBER() OVER (PARTITION BY g.country ORDER BY p.follower_count DESC) AS rank\n",
    "    FROM\n",
    "        geo_table g\n",
    "    JOIN \n",
    "        pin_table p ON g.ind = p.ind\n",
    ")\n",
    "SELECT\n",
    "    country,\n",
    "    poster_name,\n",
    "    follower_count\n",
    "FROM \n",
    "    ranked_followers\n",
    "WHERE \n",
    "    rank = 1\n",
    "ORDER BY\n",
    "    follower_count DESC\n",
    "\n",
    "\n"
   ]
  },
  {
   "cell_type": "code",
   "execution_count": 0,
   "metadata": {
    "application/vnd.databricks.v1+cell": {
     "cellMetadata": {
      "byteLimit": 2048000,
      "implicitDf": true,
      "rowLimit": 10000
     },
     "collapsed": true,
     "inputWidgets": {},
     "nuid": "92ee8ee7-02ba-4504-9f0d-4ab828a89b37",
     "showTitle": false,
     "tableResultSettingsMap": {},
     "title": ""
    }
   },
   "outputs": [],
   "source": [
    "%sql\n",
    "-- step two\n",
    "\n",
    "SELECT\n",
    "    g.country,\n",
    "    p.follower_count\n",
    "FROM\n",
    "    geo_table g\n",
    "JOIN\n",
    "    pin_table p ON g.ind = p.ind\n",
    "ORDER BY  \n",
    "    p.follower_count DESC\n",
    "LIMIT \n",
    "    1\n"
   ]
  },
  {
   "cell_type": "code",
   "execution_count": 0,
   "metadata": {
    "application/vnd.databricks.v1+cell": {
     "cellMetadata": {
      "byteLimit": 2048000,
      "implicitDf": true,
      "rowLimit": 10000
     },
     "collapsed": true,
     "inputWidgets": {},
     "nuid": "d3ac593a-d4e5-4028-822b-5fb530f4d6d9",
     "showTitle": false,
     "tableResultSettingsMap": {},
     "title": ""
    }
   },
   "outputs": [],
   "source": [
    "%sql\n",
    "-- step two alternative method\n",
    "WITH ranked_followers AS (\n",
    "    SELECT\n",
    "        g.country,\n",
    "        p.poster_name,\n",
    "        p.follower_count,\n",
    "        ROW_NUMBER() OVER (PARTITION BY g.country ORDER BY p.follower_count DESC) AS rank\n",
    "    FROM\n",
    "        geo_table g\n",
    "    JOIN \n",
    "        pin_table p ON g.ind = p.ind\n",
    ")\n",
    "SELECT\n",
    "    country,\n",
    "    follower_count\n",
    "FROM \n",
    "    ranked_followers\n",
    "WHERE \n",
    "    rank = 1\n",
    "ORDER BY\n",
    "    follower_count DESC\n",
    "LIMIT\n",
    "    1"
   ]
  },
  {
   "cell_type": "code",
   "execution_count": 0,
   "metadata": {
    "application/vnd.databricks.v1+cell": {
     "cellMetadata": {
      "byteLimit": 2048000,
      "implicitDf": true,
      "rowLimit": 10000
     },
     "inputWidgets": {},
     "nuid": "10998602-3009-422c-ac8b-9d5deffd389d",
     "showTitle": false,
     "tableResultSettingsMap": {},
     "title": ""
    }
   },
   "outputs": [],
   "source": [
    "%sql\n",
    "WITH age_ranges AS (\n",
    "    SELECT\n",
    "        CASE\n",
    "            WHEN age >= 18 AND age <= 24 THEN '18-24'\n",
    "            WHEN age >= 25 AND age <= 35 THEN '25-35'\n",
    "            WHEN age >= 36 AND age <= 49 THEN '36-49'\n",
    "            WHEN age > 50 THEN '50+'\n",
    "        END AS age_group,\n",
    "        p.category\n",
    "    FROM user_table u\n",
    "    JOIN pin_table p ON u.ind = p.ind\n",
    "),\n",
    "category_counts AS (\n",
    "    SELECT\n",
    "        age_group,\n",
    "        category,\n",
    "        COUNT(*) AS category_count\n",
    "    FROM age_ranges\n",
    "    GROUP BY age_group, category\n",
    "),\n",
    "ranked_categories AS (\n",
    "    SELECT\n",
    "        age_group,\n",
    "        category,\n",
    "        category_count,\n",
    "        ROW_NUMBER() OVER (PARTITION BY age_group ORDER BY category_count DESC) AS rank\n",
    "    FROM category_counts\n",
    ")\n",
    "SELECT\n",
    "    age_group,\n",
    "    category,\n",
    "    category_count\n",
    "FROM\n",
    "    ranked_categories\n",
    "WHERE\n",
    "    rank = 1\n",
    "ORDER BY\n",
    "    age_group;\n"
   ]
  },
  {
   "cell_type": "code",
   "execution_count": 0,
   "metadata": {
    "application/vnd.databricks.v1+cell": {
     "cellMetadata": {
      "byteLimit": 2048000,
      "implicitDf": true,
      "rowLimit": 10000
     },
     "inputWidgets": {},
     "nuid": "fc39bfa2-54f5-4d01-b701-21b159054185",
     "showTitle": false,
     "tableResultSettingsMap": {},
     "title": ""
    }
   },
   "outputs": [],
   "source": [
    "%sql\n",
    "WITH age_ranges AS (\n",
    "    SELECT\n",
    "        CASE\n",
    "            WHEN age >= 18 AND age <= 24 THEN '18-24'\n",
    "            WHEN age >= 25 AND age <= 35 THEN '25-35'\n",
    "            WHEN age >= 36 AND age <= 49 THEN '36-49'\n",
    "            WHEN age > 50 THEN '50+'\n",
    "        END AS age_group,\n",
    "        p.follower_count\n",
    "    FROM user_table u\n",
    "    JOIN pin_table p ON u.ind = p.ind\n",
    "),\n",
    "ranked_follower_count AS (\n",
    "    SELECT\n",
    "        age_group,\n",
    "        follower_count,\n",
    "        ROW_NUMBER() OVER (PARTITION BY age_group ORDER BY follower_count) AS row_num,\n",
    "        COUNT(*) OVER (PARTITION BY age_group) AS total_rows\n",
    "    FROM age_ranges\n",
    "),\n",
    "median_follower_calculator AS (\n",
    "    SELECT\n",
    "        age_group,\n",
    "        CASE\n",
    "            WHEN total_rows % 2 = 1 THEN -- Odd number of rows\n",
    "                MAX(CASE WHEN row_num = (total_rows + 1) / 2 THEN follower_count END)\n",
    "            ELSE -- Even number of rows\n",
    "                AVG(CASE WHEN row_num IN (total_rows / 2, total_rows / 2 + 1) THEN follower_count END)\n",
    "        END AS median_follower_count\n",
    "    FROM\n",
    "        ranked_follower_count\n",
    "    GROUP BY\n",
    "        age_group,\n",
    "        total_rows\n",
    ")\n",
    "SELECT\n",
    "    age_group,\n",
    "    median_follower_count\n",
    "FROM\n",
    "    median_follower_calculator\n",
    "ORDER BY\n",
    "    age_group;  \n"
   ]
  },
  {
   "cell_type": "code",
   "execution_count": 0,
   "metadata": {
    "application/vnd.databricks.v1+cell": {
     "cellMetadata": {
      "byteLimit": 2048000,
      "implicitDf": true,
      "rowLimit": 10000
     },
     "inputWidgets": {},
     "nuid": "1241e1a6-6041-4c26-a6e2-26e919f13412",
     "showTitle": false,
     "tableResultSettingsMap": {},
     "title": ""
    }
   },
   "outputs": [],
   "source": [
    "%sql\n",
    "\n",
    "SELECT\n",
    "    YEAR(date_joined) AS post_year,\n",
    "    COUNT(YEAR(date_joined)) AS number_users_joined\n",
    "FROM\n",
    "    user_table \n",
    "GROUP BY\n",
    "    post_year"
   ]
  },
  {
   "cell_type": "code",
   "execution_count": 0,
   "metadata": {
    "application/vnd.databricks.v1+cell": {
     "cellMetadata": {
      "byteLimit": 2048000,
      "implicitDf": true,
      "rowLimit": 10000
     },
     "inputWidgets": {},
     "nuid": "82273a99-d002-4d6e-a7c7-3cd7aba106c8",
     "showTitle": false,
     "tableResultSettingsMap": {},
     "title": ""
    }
   },
   "outputs": [],
   "source": [
    "%sql\n",
    "\n",
    "WITH new_users AS (\n",
    "    SELECT\n",
    "        YEAR(date_joined) AS post_year,\n",
    "        COUNT(YEAR(date_joined)) AS number_users_joined,\n",
    "        ind\n",
    "    FROM\n",
    "        user_table \n",
    "    GROUP BY\n",
    "        post_year,\n",
    "        ind\n",
    "), ranked_follower_count AS (\n",
    "    SELECT\n",
    "        n.post_year,\n",
    "        p.follower_count,\n",
    "        ROW_NUMBER() OVER (PARTITION BY n.post_year ORDER BY p.follower_count) AS row_num,\n",
    "        COUNT(*) OVER (PARTITION BY n.post_year) AS total_rows\n",
    "    FROM \n",
    "        new_users n\n",
    "    JOIN\n",
    "        pin_table p ON n.ind = p.ind\n",
    "), median_follower_calculator AS (\n",
    "    SELECT\n",
    "        post_year,\n",
    "        CASE\n",
    "            WHEN total_rows % 2 = 1 THEN -- Odd number of rows\n",
    "                MAX(CASE WHEN row_num = (total_rows + 1) / 2 THEN follower_count END)\n",
    "            ELSE -- Even number of rows\n",
    "                AVG(CASE WHEN row_num IN (total_rows / 2, total_rows / 2 + 1) THEN follower_count END)\n",
    "        END AS median_follower_count\n",
    "    FROM\n",
    "        ranked_follower_count\n",
    "    GROUP BY\n",
    "        post_year,\n",
    "        total_rows\n",
    ")\n",
    "SELECT\n",
    "    post_year,\n",
    "    median_follower_count\n",
    "FROM\n",
    "    median_follower_calculator\n",
    "\n"
   ]
  },
  {
   "cell_type": "code",
   "execution_count": 0,
   "metadata": {
    "application/vnd.databricks.v1+cell": {
     "cellMetadata": {
      "byteLimit": 2048000,
      "implicitDf": true,
      "rowLimit": 10000
     },
     "inputWidgets": {},
     "nuid": "9482ee3c-66f3-4b6f-89e3-92230e437779",
     "showTitle": false,
     "tableResultSettingsMap": {},
     "title": ""
    }
   },
   "outputs": [],
   "source": [
    "%sql\n",
    "WITH new_users AS (\n",
    "    SELECT\n",
    "        YEAR(date_joined) AS post_year,\n",
    "        ind,\n",
    "        age\n",
    "    FROM\n",
    "        user_table\n",
    "), \n",
    "age_ranges AS (\n",
    "    SELECT\n",
    "        CASE\n",
    "            WHEN age >= 18 AND age <= 24 THEN '18-24'\n",
    "            WHEN age >= 25 AND age <= 35 THEN '25-35'\n",
    "            WHEN age >= 36 AND age <= 49 THEN '36-49'\n",
    "            WHEN age > 50 THEN '50+'\n",
    "        END AS age_group,\n",
    "        p.follower_count,\n",
    "        n.post_year\n",
    "    FROM \n",
    "        new_users n\n",
    "    JOIN \n",
    "        pin_table p ON n.ind = p.ind\n",
    "),\n",
    "ranked_follower_count AS (\n",
    "    SELECT\n",
    "        age_group,\n",
    "        follower_count,\n",
    "        ROW_NUMBER() OVER (PARTITION BY post_year, age_group ORDER BY follower_count) AS row_num,\n",
    "        COUNT(*) OVER (PARTITION BY post_year, age_group) AS total_rows,\n",
    "        post_year\n",
    "    FROM \n",
    "        age_ranges\n",
    "),\n",
    "median_follower_calculator AS (\n",
    "    SELECT\n",
    "        post_year,\n",
    "        age_group,\n",
    "        CASE\n",
    "            WHEN total_rows % 2 = 1 THEN -- Odd number of rows\n",
    "                MAX(CASE WHEN row_num = (total_rows + 1) / 2 THEN follower_count END)\n",
    "            ELSE -- Even number of rows\n",
    "                AVG(CASE WHEN row_num IN (total_rows / 2, total_rows / 2 + 1) THEN follower_count END)\n",
    "        END AS median_follower_count\n",
    "    FROM \n",
    "        ranked_follower_count\n",
    "    GROUP BY \n",
    "        post_year,\n",
    "        age_group,\n",
    "        total_rows\n",
    ")\n",
    "SELECT\n",
    "    age_group,\n",
    "    post_year,\n",
    "    median_follower_count\n",
    "FROM \n",
    "    median_follower_calculator\n",
    "ORDER BY \n",
    "    post_year, \n",
    "    age_group;\n"
   ]
  },
  {
   "cell_type": "code",
   "execution_count": 0,
   "metadata": {
    "application/vnd.databricks.v1+cell": {
     "cellMetadata": {
      "byteLimit": 2048000,
      "rowLimit": 10000
     },
     "inputWidgets": {},
     "nuid": "29b0d526-ea6d-484d-8dfb-57d9c8e7e17e",
     "showTitle": false,
     "tableResultSettingsMap": {},
     "title": ""
    }
   },
   "outputs": [],
   "source": [
    "spark.conf.get(\"spark.databricks.clusterUsageTags.clusterId\")"
   ]
  }
 ],
 "metadata": {
  "application/vnd.databricks.v1+notebook": {
   "computePreferences": null,
   "dashboards": [],
   "environmentMetadata": {
    "base_environment": "",
    "client": "1"
   },
   "language": "python",
   "notebookMetadata": {
    "mostRecentlyExecutedCommandWithImplicitDF": {
     "commandId": 726246248899948,
     "dataframes": [
      "_sqldf"
     ]
    },
    "pythonIndentUnit": 4
   },
   "notebookName": "pinterest_project_databricks",
   "widgets": {}
  },
  "language_info": {
   "name": "python"
  }
 },
 "nbformat": 4,
 "nbformat_minor": 0
}
